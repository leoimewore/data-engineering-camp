{
 "cells": [
  {
   "cell_type": "code",
   "execution_count": 1,
   "id": "1fc0862b-fefa-4832-be6b-a90590f0a3f2",
   "metadata": {},
   "outputs": [],
   "source": [
    "import pyspark\n",
    "from pyspark.sql import SparkSession"
   ]
  },
  {
   "cell_type": "code",
   "execution_count": 2,
   "id": "f222b213-2426-4776-b60a-b6231aa97c3a",
   "metadata": {},
   "outputs": [
    {
     "name": "stderr",
     "output_type": "stream",
     "text": [
      "Setting default log level to \"WARN\".\n",
      "To adjust logging level use sc.setLogLevel(newLevel). For SparkR, use setLogLevel(newLevel).\n",
      "25/02/27 04:18:51 WARN NativeCodeLoader: Unable to load native-hadoop library for your platform... using builtin-java classes where applicable\n",
      "25/02/27 04:18:52 WARN Utils: Service 'SparkUI' could not bind on port 4040. Attempting port 4041.\n",
      "25/02/27 04:18:52 WARN Utils: Service 'SparkUI' could not bind on port 4041. Attempting port 4042.\n",
      "25/02/27 04:19:05 WARN GarbageCollectionMetrics: To enable non-built-in garbage collector(s) List(G1 Concurrent GC), users should configure it(them) to spark.eventLog.gcMetrics.youngGenerationGarbageCollectors or spark.eventLog.gcMetrics.oldGenerationGarbageCollectors\n"
     ]
    }
   ],
   "source": [
    "spark = SparkSession.builder \\\n",
    "    .master(\"local[*]\") \\\n",
    "    .appName('test') \\\n",
    "    .getOrCreate()"
   ]
  },
  {
   "cell_type": "code",
   "execution_count": 5,
   "id": "4b1a5e95-494c-4589-9d94-434efc26d706",
   "metadata": {},
   "outputs": [],
   "source": [
    "df_green = spark.read.parquet(\"data/raw/green/2021/*/*\")"
   ]
  },
  {
   "cell_type": "code",
   "execution_count": 7,
   "id": "03bb2d21-f150-4bf4-bb3b-9446bfb0598a",
   "metadata": {},
   "outputs": [
    {
     "name": "stdout",
     "output_type": "stream",
     "text": [
      "+--------+--------------------+---------------------+------------------+----------+------------+------------+---------------+-------------+-----------+-----+-------+----------+------------+---------+---------------------+------------+------------+---------+--------------------+\n",
      "|VendorID|lpep_pickup_datetime|lpep_dropoff_datetime|store_and_fwd_flag|RatecodeID|PULocationID|DOLocationID|passenger_count|trip_distance|fare_amount|extra|mta_tax|tip_amount|tolls_amount|ehail_fee|improvement_surcharge|total_amount|payment_type|trip_type|congestion_surcharge|\n",
      "+--------+--------------------+---------------------+------------------+----------+------------+------------+---------------+-------------+-----------+-----+-------+----------+------------+---------+---------------------+------------+------------+---------+--------------------+\n",
      "|       2| 2021-09-30 18:39:03|  2021-09-30 18:39:06|                 N|       5.0|          37|          37|            1.0|         0.02|       10.0|  0.0|    0.0|       0.0|         0.0|     NULL|                  0.3|        10.3|         1.0|      2.0|                 0.0|\n",
      "|       2| 2021-10-01 00:47:50|  2021-10-01 01:00:04|                 N|       5.0|          92|          82|            2.0|         3.44|       20.0|  0.0|    0.0|       0.0|         0.0|     NULL|                  0.3|        20.3|         2.0|      2.0|                 0.0|\n",
      "|       2| 2021-10-01 00:23:10|  2021-10-01 00:34:26|                 N|       5.0|          41|         167|            2.0|         2.44|       13.0|  0.0|    0.0|       0.0|         0.0|     NULL|                  0.3|        13.3|         2.0|      2.0|                 0.0|\n",
      "|       2| 2021-10-01 00:37:35|  2021-10-01 00:43:37|                 N|       1.0|         134|         135|            1.0|         1.67|        7.0|  0.5|    0.5|       0.0|         0.0|     NULL|                  0.3|         8.3|         1.0|      1.0|                 0.0|\n",
      "|       2| 2021-10-01 00:43:28|  2021-10-01 00:48:26|                 N|       1.0|         119|         247|            1.0|         0.99|        5.5|  0.5|    0.5|       0.0|         0.0|     NULL|                  0.3|         6.8|         2.0|      1.0|                 0.0|\n",
      "|       2| 2021-10-01 00:57:38|  2021-10-01 01:02:31|                 N|       1.0|         169|         235|            1.0|         0.76|        5.5|  0.5|    0.5|       0.0|         0.0|     NULL|                  0.3|         6.8|         2.0|      1.0|                 0.0|\n",
      "|       2| 2021-10-01 00:44:54|  2021-10-01 01:07:28|                 N|       1.0|          75|         217|            1.0|         9.18|       28.0|  0.5|    0.5|       0.0|         0.0|     NULL|                  0.3|       32.05|         2.0|      1.0|                2.75|\n",
      "|       2| 2021-10-01 00:05:40|  2021-10-01 00:33:03|                 N|       1.0|          66|          90|            2.0|         7.04|       25.0|  0.5|    0.5|      5.81|         0.0|     NULL|                  0.3|       34.86|         1.0|      1.0|                2.75|\n",
      "|       2| 2021-10-01 00:24:38|  2021-10-01 00:36:22|                 N|       1.0|          82|          56|            1.0|         1.42|        9.0|  0.5|    0.5|       0.0|         0.0|     NULL|                  0.3|        10.3|         2.0|      1.0|                 0.0|\n",
      "|       2| 2021-09-30 23:40:42|  2021-09-30 23:52:40|                 N|       1.0|          66|         231|            1.0|         2.27|       10.5|  0.5|    0.5|      2.91|         0.0|     NULL|                  0.3|       17.46|         1.0|      1.0|                2.75|\n",
      "|       2| 2021-10-01 00:09:01|  2021-10-01 00:27:22|                 N|       1.0|          66|         141|            1.0|         7.87|       23.5|  0.5|    0.5|      2.76|         0.0|     NULL|                  0.3|       30.31|         1.0|      1.0|                2.75|\n",
      "|       2| 2021-10-01 00:08:50|  2021-10-01 00:20:12|                 N|       1.0|         130|         205|            1.0|         2.86|       11.0|  0.5|    0.5|      3.08|         0.0|     NULL|                  0.3|       15.38|         1.0|      1.0|                 0.0|\n",
      "|       1| 2021-10-01 00:01:21|  2021-10-01 00:18:29|                 N|       1.0|         181|         188|            1.0|          3.2|       14.0|  0.5|    0.5|      3.05|         0.0|     NULL|                  0.3|       18.35|         1.0|      1.0|                 0.0|\n",
      "|       2| 2021-10-01 00:04:40|  2021-10-01 00:11:02|                 N|       1.0|         129|         129|            1.0|         1.01|        6.5|  0.5|    0.5|      2.34|         0.0|     NULL|                  0.3|       10.14|         1.0|      1.0|                 0.0|\n",
      "|       1| 2021-10-01 00:10:37|  2021-10-01 00:13:29|                 N|       1.0|          10|         130|            1.0|          2.1|        7.5|  0.5|    0.5|       0.0|         0.0|     NULL|                  0.3|         8.8|         2.0|      1.0|                 0.0|\n",
      "|       2| 2021-09-30 21:03:51|  2021-09-30 21:25:22|                 N|       1.0|         134|          37|            1.0|         7.16|       23.5|  0.5|    0.5|      4.96|         0.0|     NULL|                  0.3|       29.76|         1.0|      1.0|                 0.0|\n",
      "|       2| 2021-10-01 00:09:23|  2021-10-01 00:18:42|                 N|       1.0|         129|          82|            1.0|         1.23|        8.0|  0.5|    0.5|      1.86|         0.0|     NULL|                  0.3|       11.16|         1.0|      1.0|                 0.0|\n",
      "|       2| 2021-10-01 00:28:33|  2021-10-01 00:46:43|                 N|       1.0|          74|         250|            3.0|          5.8|       19.5|  0.5|    0.5|       0.2|         0.0|     NULL|                  0.3|        21.0|         1.0|      1.0|                 0.0|\n",
      "|       2| 2021-10-01 00:46:34|  2021-10-01 00:56:30|                 N|       1.0|          21|         210|            1.0|         3.71|       12.5|  0.5|    0.5|       0.0|         0.0|     NULL|                  0.3|        13.8|         1.0|      1.0|                 0.0|\n",
      "|       2| 2021-10-01 00:54:15|  2021-10-01 01:15:21|                 N|       1.0|          41|          48|            1.0|         4.56|       17.5|  0.5|    0.5|       1.0|         0.0|     NULL|                  0.3|       22.55|         1.0|      1.0|                2.75|\n",
      "+--------+--------------------+---------------------+------------------+----------+------------+------------+---------------+-------------+-----------+-----+-------+----------+------------+---------+---------------------+------------+------------+---------+--------------------+\n",
      "only showing top 20 rows\n",
      "\n"
     ]
    }
   ],
   "source": [
    "df_green.show()"
   ]
  },
  {
   "cell_type": "code",
   "execution_count": 8,
   "id": "ff8e09b9-6d73-4bdf-8b67-095ddb89c7b9",
   "metadata": {},
   "outputs": [],
   "source": [
    "df_yellow = spark.read.parquet(\"data/raw/yellow/2021/*/*\")"
   ]
  },
  {
   "cell_type": "code",
   "execution_count": 9,
   "id": "85e06e1b-c841-4f37-a291-c02f1f60eb7e",
   "metadata": {},
   "outputs": [
    {
     "name": "stdout",
     "output_type": "stream",
     "text": [
      "root\n",
      " |-- VendorID: long (nullable = true)\n",
      " |-- tpep_pickup_datetime: timestamp_ntz (nullable = true)\n",
      " |-- tpep_dropoff_datetime: timestamp_ntz (nullable = true)\n",
      " |-- passenger_count: double (nullable = true)\n",
      " |-- trip_distance: double (nullable = true)\n",
      " |-- RatecodeID: double (nullable = true)\n",
      " |-- store_and_fwd_flag: string (nullable = true)\n",
      " |-- PULocationID: long (nullable = true)\n",
      " |-- DOLocationID: long (nullable = true)\n",
      " |-- payment_type: long (nullable = true)\n",
      " |-- fare_amount: double (nullable = true)\n",
      " |-- extra: double (nullable = true)\n",
      " |-- mta_tax: double (nullable = true)\n",
      " |-- tip_amount: double (nullable = true)\n",
      " |-- tolls_amount: double (nullable = true)\n",
      " |-- improvement_surcharge: double (nullable = true)\n",
      " |-- total_amount: double (nullable = true)\n",
      " |-- congestion_surcharge: double (nullable = true)\n",
      " |-- airport_fee: double (nullable = true)\n",
      "\n"
     ]
    }
   ],
   "source": [
    "df_yellow.printSchema()"
   ]
  },
  {
   "cell_type": "code",
   "execution_count": 10,
   "id": "56520fff-0503-4bf4-b53d-75230f0ab4ff",
   "metadata": {},
   "outputs": [
    {
     "data": {
      "text/plain": [
       "['VendorID',\n",
       " 'tpep_pickup_datetime',\n",
       " 'tpep_dropoff_datetime',\n",
       " 'passenger_count',\n",
       " 'trip_distance',\n",
       " 'RatecodeID',\n",
       " 'store_and_fwd_flag',\n",
       " 'PULocationID',\n",
       " 'DOLocationID',\n",
       " 'payment_type',\n",
       " 'fare_amount',\n",
       " 'extra',\n",
       " 'mta_tax',\n",
       " 'tip_amount',\n",
       " 'tolls_amount',\n",
       " 'improvement_surcharge',\n",
       " 'total_amount',\n",
       " 'congestion_surcharge',\n",
       " 'airport_fee']"
      ]
     },
     "execution_count": 10,
     "metadata": {},
     "output_type": "execute_result"
    }
   ],
   "source": [
    "df_yellow.columns"
   ]
  },
  {
   "cell_type": "code",
   "execution_count": 11,
   "id": "658ab45c-245c-4c58-a58d-503191b94433",
   "metadata": {},
   "outputs": [
    {
     "data": {
      "text/plain": [
       "{'DOLocationID',\n",
       " 'PULocationID',\n",
       " 'RatecodeID',\n",
       " 'VendorID',\n",
       " 'congestion_surcharge',\n",
       " 'extra',\n",
       " 'fare_amount',\n",
       " 'improvement_surcharge',\n",
       " 'mta_tax',\n",
       " 'passenger_count',\n",
       " 'payment_type',\n",
       " 'store_and_fwd_flag',\n",
       " 'tip_amount',\n",
       " 'tolls_amount',\n",
       " 'total_amount',\n",
       " 'trip_distance'}"
      ]
     },
     "execution_count": 11,
     "metadata": {},
     "output_type": "execute_result"
    }
   ],
   "source": [
    "set(df_green.columns) & set(df_yellow.columns)"
   ]
  },
  {
   "cell_type": "code",
   "execution_count": 12,
   "id": "54f44aa4-e2ad-4ae8-aa7d-23b0408f24cb",
   "metadata": {},
   "outputs": [],
   "source": [
    "df_green=df_green \\\n",
    "    .withColumnRenamed('lpep_pickup_datetime', 'pickup_datetime') \\\n",
    "    .withColumnRenamed('lpep_dropoff_datetime', 'dropoff_datetime')"
   ]
  },
  {
   "cell_type": "code",
   "execution_count": 13,
   "id": "adfc3247-7c88-42be-a860-e548d3bb8b06",
   "metadata": {},
   "outputs": [],
   "source": [
    "df_yellow=df_yellow \\\n",
    "    .withColumnRenamed('tpep_pickup_datetime', 'pickup_datetime') \\\n",
    "    .withColumnRenamed('tpep_dropoff_datetime', 'dropoff_datetime')"
   ]
  },
  {
   "cell_type": "code",
   "execution_count": 14,
   "id": "aa2c91b0-2b7d-4a6d-a638-87997cdc2d1c",
   "metadata": {},
   "outputs": [
    {
     "data": {
      "text/plain": [
       "{'DOLocationID',\n",
       " 'PULocationID',\n",
       " 'RatecodeID',\n",
       " 'VendorID',\n",
       " 'congestion_surcharge',\n",
       " 'dropoff_datetime',\n",
       " 'extra',\n",
       " 'fare_amount',\n",
       " 'improvement_surcharge',\n",
       " 'mta_tax',\n",
       " 'passenger_count',\n",
       " 'payment_type',\n",
       " 'pickup_datetime',\n",
       " 'store_and_fwd_flag',\n",
       " 'tip_amount',\n",
       " 'tolls_amount',\n",
       " 'total_amount',\n",
       " 'trip_distance'}"
      ]
     },
     "execution_count": 14,
     "metadata": {},
     "output_type": "execute_result"
    }
   ],
   "source": [
    "set(df_green.columns) & set(df_yellow.columns)"
   ]
  },
  {
   "cell_type": "code",
   "execution_count": 16,
   "id": "30c7e7c7-da2a-4619-860b-a0959ecfe36c",
   "metadata": {},
   "outputs": [],
   "source": [
    "common_columns = []\n",
    "\n",
    "yellow_columns = set(df_yellow.columns)\n",
    "\n",
    "for col in df_green.columns:\n",
    "    if col in yellow_columns:\n",
    "        common_columns.append(col)"
   ]
  },
  {
   "cell_type": "code",
   "execution_count": 17,
   "id": "5b8b8188-2a01-4c3c-a3b5-1939b06634bb",
   "metadata": {},
   "outputs": [
    {
     "data": {
      "text/plain": [
       "['VendorID',\n",
       " 'pickup_datetime',\n",
       " 'dropoff_datetime',\n",
       " 'store_and_fwd_flag',\n",
       " 'RatecodeID',\n",
       " 'PULocationID',\n",
       " 'DOLocationID',\n",
       " 'passenger_count',\n",
       " 'trip_distance',\n",
       " 'fare_amount',\n",
       " 'extra',\n",
       " 'mta_tax',\n",
       " 'tip_amount',\n",
       " 'tolls_amount',\n",
       " 'improvement_surcharge',\n",
       " 'total_amount',\n",
       " 'payment_type',\n",
       " 'congestion_surcharge']"
      ]
     },
     "execution_count": 17,
     "metadata": {},
     "output_type": "execute_result"
    }
   ],
   "source": [
    "common_columns"
   ]
  },
  {
   "cell_type": "code",
   "execution_count": 18,
   "id": "2b554e2a-3ad2-46fe-858a-b5f02f1a996f",
   "metadata": {},
   "outputs": [
    {
     "name": "stdout",
     "output_type": "stream",
     "text": [
      "+--------+-------------------+-------------------+------------------+----------+------------+------------+---------------+-------------+-----------+-----+-------+----------+------------+---------------------+------------+------------+--------------------+\n",
      "|VendorID|    pickup_datetime|   dropoff_datetime|store_and_fwd_flag|RatecodeID|PULocationID|DOLocationID|passenger_count|trip_distance|fare_amount|extra|mta_tax|tip_amount|tolls_amount|improvement_surcharge|total_amount|payment_type|congestion_surcharge|\n",
      "+--------+-------------------+-------------------+------------------+----------+------------+------------+---------------+-------------+-----------+-----+-------+----------+------------+---------------------+------------+------------+--------------------+\n",
      "|       2|2021-09-30 18:39:03|2021-09-30 18:39:06|                 N|       5.0|          37|          37|            1.0|         0.02|       10.0|  0.0|    0.0|       0.0|         0.0|                  0.3|        10.3|         1.0|                 0.0|\n",
      "|       2|2021-10-01 00:47:50|2021-10-01 01:00:04|                 N|       5.0|          92|          82|            2.0|         3.44|       20.0|  0.0|    0.0|       0.0|         0.0|                  0.3|        20.3|         2.0|                 0.0|\n",
      "|       2|2021-10-01 00:23:10|2021-10-01 00:34:26|                 N|       5.0|          41|         167|            2.0|         2.44|       13.0|  0.0|    0.0|       0.0|         0.0|                  0.3|        13.3|         2.0|                 0.0|\n",
      "|       2|2021-10-01 00:37:35|2021-10-01 00:43:37|                 N|       1.0|         134|         135|            1.0|         1.67|        7.0|  0.5|    0.5|       0.0|         0.0|                  0.3|         8.3|         1.0|                 0.0|\n",
      "|       2|2021-10-01 00:43:28|2021-10-01 00:48:26|                 N|       1.0|         119|         247|            1.0|         0.99|        5.5|  0.5|    0.5|       0.0|         0.0|                  0.3|         6.8|         2.0|                 0.0|\n",
      "|       2|2021-10-01 00:57:38|2021-10-01 01:02:31|                 N|       1.0|         169|         235|            1.0|         0.76|        5.5|  0.5|    0.5|       0.0|         0.0|                  0.3|         6.8|         2.0|                 0.0|\n",
      "|       2|2021-10-01 00:44:54|2021-10-01 01:07:28|                 N|       1.0|          75|         217|            1.0|         9.18|       28.0|  0.5|    0.5|       0.0|         0.0|                  0.3|       32.05|         2.0|                2.75|\n",
      "|       2|2021-10-01 00:05:40|2021-10-01 00:33:03|                 N|       1.0|          66|          90|            2.0|         7.04|       25.0|  0.5|    0.5|      5.81|         0.0|                  0.3|       34.86|         1.0|                2.75|\n",
      "|       2|2021-10-01 00:24:38|2021-10-01 00:36:22|                 N|       1.0|          82|          56|            1.0|         1.42|        9.0|  0.5|    0.5|       0.0|         0.0|                  0.3|        10.3|         2.0|                 0.0|\n",
      "|       2|2021-09-30 23:40:42|2021-09-30 23:52:40|                 N|       1.0|          66|         231|            1.0|         2.27|       10.5|  0.5|    0.5|      2.91|         0.0|                  0.3|       17.46|         1.0|                2.75|\n",
      "|       2|2021-10-01 00:09:01|2021-10-01 00:27:22|                 N|       1.0|          66|         141|            1.0|         7.87|       23.5|  0.5|    0.5|      2.76|         0.0|                  0.3|       30.31|         1.0|                2.75|\n",
      "|       2|2021-10-01 00:08:50|2021-10-01 00:20:12|                 N|       1.0|         130|         205|            1.0|         2.86|       11.0|  0.5|    0.5|      3.08|         0.0|                  0.3|       15.38|         1.0|                 0.0|\n",
      "|       1|2021-10-01 00:01:21|2021-10-01 00:18:29|                 N|       1.0|         181|         188|            1.0|          3.2|       14.0|  0.5|    0.5|      3.05|         0.0|                  0.3|       18.35|         1.0|                 0.0|\n",
      "|       2|2021-10-01 00:04:40|2021-10-01 00:11:02|                 N|       1.0|         129|         129|            1.0|         1.01|        6.5|  0.5|    0.5|      2.34|         0.0|                  0.3|       10.14|         1.0|                 0.0|\n",
      "|       1|2021-10-01 00:10:37|2021-10-01 00:13:29|                 N|       1.0|          10|         130|            1.0|          2.1|        7.5|  0.5|    0.5|       0.0|         0.0|                  0.3|         8.8|         2.0|                 0.0|\n",
      "|       2|2021-09-30 21:03:51|2021-09-30 21:25:22|                 N|       1.0|         134|          37|            1.0|         7.16|       23.5|  0.5|    0.5|      4.96|         0.0|                  0.3|       29.76|         1.0|                 0.0|\n",
      "|       2|2021-10-01 00:09:23|2021-10-01 00:18:42|                 N|       1.0|         129|          82|            1.0|         1.23|        8.0|  0.5|    0.5|      1.86|         0.0|                  0.3|       11.16|         1.0|                 0.0|\n",
      "|       2|2021-10-01 00:28:33|2021-10-01 00:46:43|                 N|       1.0|          74|         250|            3.0|          5.8|       19.5|  0.5|    0.5|       0.2|         0.0|                  0.3|        21.0|         1.0|                 0.0|\n",
      "|       2|2021-10-01 00:46:34|2021-10-01 00:56:30|                 N|       1.0|          21|         210|            1.0|         3.71|       12.5|  0.5|    0.5|       0.0|         0.0|                  0.3|        13.8|         1.0|                 0.0|\n",
      "|       2|2021-10-01 00:54:15|2021-10-01 01:15:21|                 N|       1.0|          41|          48|            1.0|         4.56|       17.5|  0.5|    0.5|       1.0|         0.0|                  0.3|       22.55|         1.0|                2.75|\n",
      "+--------+-------------------+-------------------+------------------+----------+------------+------------+---------------+-------------+-----------+-----+-------+----------+------------+---------------------+------------+------------+--------------------+\n",
      "only showing top 20 rows\n",
      "\n"
     ]
    }
   ],
   "source": [
    "df_green.select(common_columns).show()"
   ]
  },
  {
   "cell_type": "code",
   "execution_count": null,
   "id": "f04d5008-e299-46a4-99de-3f27acbdccaa",
   "metadata": {},
   "outputs": [],
   "source": []
  }
 ],
 "metadata": {
  "kernelspec": {
   "display_name": "Python 3.8.10 64-bit",
   "language": "python",
   "name": "python3"
  },
  "language_info": {
   "codemirror_mode": {
    "name": "ipython",
    "version": 3
   },
   "file_extension": ".py",
   "mimetype": "text/x-python",
   "name": "python",
   "nbconvert_exporter": "python",
   "pygments_lexer": "ipython3",
   "version": "3.8.10"
  },
  "vscode": {
   "interpreter": {
    "hash": "31f2aee4e71d21fbe5cf8b01ff0e069b9275f58929596ceb00d14d90e3e16cd6"
   }
  }
 },
 "nbformat": 4,
 "nbformat_minor": 5
}
