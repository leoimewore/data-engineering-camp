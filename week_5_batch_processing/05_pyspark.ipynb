{
 "cells": [
  {
   "cell_type": "code",
   "execution_count": 1,
   "id": "8551cd85-d1ef-419a-aa47-27b5c78eb0f7",
   "metadata": {},
   "outputs": [],
   "source": [
    "import pyspark\n",
    "from pyspark.sql import SparkSession"
   ]
  },
  {
   "cell_type": "code",
   "execution_count": 2,
   "id": "86746a33-4710-4295-b87f-5a63bba875ce",
   "metadata": {},
   "outputs": [
    {
     "name": "stderr",
     "output_type": "stream",
     "text": [
      "Setting default log level to \"WARN\".\n",
      "To adjust logging level use sc.setLogLevel(newLevel). For SparkR, use setLogLevel(newLevel).\n",
      "25/02/27 02:47:53 WARN NativeCodeLoader: Unable to load native-hadoop library for your platform... using builtin-java classes where applicable\n"
     ]
    }
   ],
   "source": [
    "spark = SparkSession.builder \\\n",
    "    .master(\"local[*]\") \\\n",
    "    .appName('test') \\\n",
    "    .getOrCreate()"
   ]
  },
  {
   "cell_type": "code",
   "execution_count": 3,
   "id": "3955ab24-f875-4ce0-b4c6-b87924dd8f46",
   "metadata": {},
   "outputs": [
    {
     "name": "stdout",
     "output_type": "stream",
     "text": [
      "--2025-02-27 02:47:57--  https://d37ci6vzurychx.cloudfront.net/trip-data/fhvhv_tripdata_2022-01.parquet\n",
      "Resolving d37ci6vzurychx.cloudfront.net (d37ci6vzurychx.cloudfront.net)... 54.230.209.200, 54.230.209.72, 54.230.209.126, ...\n",
      "Connecting to d37ci6vzurychx.cloudfront.net (d37ci6vzurychx.cloudfront.net)|54.230.209.200|:443... connected.\n",
      "HTTP request sent, awaiting response... 200 OK\n",
      "Length: 374619188 (357M) [application/x-www-form-urlencoded]\n",
      "Saving to: ‘fhvhv_tripdata_2022-01.parquet.2’\n",
      "\n",
      "fhvhv_tripdata_2022 100%[===================>] 357.26M  71.6MB/s    in 5.0s    \n",
      "\n",
      "2025-02-27 02:48:02 (71.1 MB/s) - ‘fhvhv_tripdata_2022-01.parquet.2’ saved [374619188/374619188]\n",
      "\n"
     ]
    }
   ],
   "source": [
    "!wget https://d37ci6vzurychx.cloudfront.net/trip-data/fhvhv_tripdata_2022-01.parquet\n"
   ]
  },
  {
   "cell_type": "code",
   "execution_count": 4,
   "id": "acba4c5a-71c7-4dac-aa3d-31429acb71c0",
   "metadata": {},
   "outputs": [
    {
     "name": "stdout",
     "output_type": "stream",
     "text": [
      "1194413 fhvhv_tripdata_2022-01.parquet\n"
     ]
    },
    {
     "name": "stderr",
     "output_type": "stream",
     "text": [
      "25/02/27 02:48:07 WARN GarbageCollectionMetrics: To enable non-built-in garbage collector(s) List(G1 Concurrent GC), users should configure it(them) to spark.eventLog.gcMetrics.youngGenerationGarbageCollectors or spark.eventLog.gcMetrics.oldGenerationGarbageCollectors\n"
     ]
    }
   ],
   "source": [
    "!wc -l fhvhv_tripdata_2022-01.parquet"
   ]
  },
  {
   "cell_type": "code",
   "execution_count": 5,
   "id": "c6f4b6b1-d126-47d8-b4a3-008f208bb549",
   "metadata": {},
   "outputs": [
    {
     "name": "stderr",
     "output_type": "stream",
     "text": [
      "                                                                                \r"
     ]
    }
   ],
   "source": [
    "df = spark.read.parquet(\"fhvhv_tripdata_2022-01.parquet\")"
   ]
  },
  {
   "cell_type": "code",
   "execution_count": 6,
   "id": "74577ac8-230e-466a-964e-439187fb865c",
   "metadata": {},
   "outputs": [
    {
     "name": "stderr",
     "output_type": "stream",
     "text": [
      "                                                                                \r"
     ]
    },
    {
     "name": "stdout",
     "output_type": "stream",
     "text": [
      "+-----------------+--------------------+--------------------+-------------------+-------------------+-------------------+-------------------+------------+------------+----------+---------+-------------------+-----+----+---------+--------------------+-----------+----+----------+-------------------+-----------------+------------------+----------------+--------------+\n",
      "|hvfhs_license_num|dispatching_base_num|originating_base_num|   request_datetime|  on_scene_datetime|    pickup_datetime|   dropoff_datetime|PULocationID|DOLocationID|trip_miles|trip_time|base_passenger_fare|tolls| bcf|sales_tax|congestion_surcharge|airport_fee|tips|driver_pay|shared_request_flag|shared_match_flag|access_a_ride_flag|wav_request_flag|wav_match_flag|\n",
      "+-----------------+--------------------+--------------------+-------------------+-------------------+-------------------+-------------------+------------+------------+----------+---------+-------------------+-----+----+---------+--------------------+-----------+----+----------+-------------------+-----------------+------------------+----------------+--------------+\n",
      "|           HV0003|              B03404|              B03404|2022-01-01 00:05:31|2022-01-01 00:05:40|2022-01-01 00:07:24|2022-01-01 00:18:28|         170|         161|      1.18|      664|               24.9|  0.0|0.75|     2.21|                2.75|        0.0| 0.0|     23.03|                  N|                N|                  |               N|             N|\n",
      "|           HV0003|              B03404|              B03404|2022-01-01 00:19:27|2022-01-01 00:22:08|2022-01-01 00:22:32|2022-01-01 00:30:12|         237|         161|      0.82|      460|              11.97|  0.0|0.36|     1.06|                2.75|        0.0| 0.0|     12.32|                  N|                N|                  |               N|             N|\n",
      "|           HV0003|              B03404|              B03404|2022-01-01 00:43:53|2022-01-01 00:57:37|2022-01-01 00:57:37|2022-01-01 01:07:32|         237|         161|      1.18|      595|              29.82|  0.0|0.89|     2.65|                2.75|        0.0| 0.0|      23.3|                  N|                N|                  |               N|             N|\n",
      "|           HV0003|              B03404|              B03404|2022-01-01 00:15:36|2022-01-01 00:17:08|2022-01-01 00:18:02|2022-01-01 00:23:05|         262|         229|      1.65|      303|               7.91|  0.0|0.24|      0.7|                2.75|        0.0| 0.0|       6.3|                  N|                N|                  |               N|             N|\n",
      "|           HV0003|              B03404|              B03404|2022-01-01 00:25:45|2022-01-01 00:26:01|2022-01-01 00:28:01|2022-01-01 00:35:42|         229|         141|      1.65|      461|               9.44|  0.0|0.28|     0.84|                2.75|        0.0| 0.0|      7.44|                  N|                N|                  |               N|             N|\n",
      "|           HV0003|              B03404|              B03404|2022-01-01 00:34:44|2022-01-01 00:36:52|2022-01-01 00:38:50|2022-01-01 00:51:32|         263|          79|      4.51|      762|              17.67|  0.0|0.53|     1.57|                2.75|        0.0| 0.0|     12.25|                  N|                N|                  |               N|             N|\n",
      "|           HV0003|              B03404|              B03404|2022-01-01 00:47:51|2022-01-01 00:52:00|2022-01-01 00:53:25|2022-01-01 01:08:56|         113|         140|      3.68|      931|              16.68|  0.0| 0.5|     1.48|                2.75|        0.0| 0.0|     12.75|                  N|                N|                  |               N|             N|\n",
      "|           HV0003|              B03404|              B03404|2022-01-01 00:06:21|2022-01-01 00:06:58|2022-01-01 00:08:58|2022-01-01 00:23:01|         151|          75|      2.77|      843|              14.41|  0.0|0.43|     1.28|                 0.0|        0.0| 4.0|     11.47|                  N|                N|                  |               N|             N|\n",
      "|           HV0003|              B03404|              B03404|2022-01-01 00:27:54|2022-01-01 00:30:26|2022-01-01 00:32:25|2022-01-01 00:44:15|         263|         229|      2.04|      710|              10.64|  0.0|0.32|     0.94|                2.75|        0.0| 0.0|      9.55|                  N|                N|                  |               N|             N|\n",
      "|           HV0003|              B03404|              B03404|2022-01-01 00:44:59|2022-01-01 00:48:23|2022-01-01 00:50:23|2022-01-01 01:15:30|         237|         169|      8.79|     1507|             107.56|  0.0|0.83|     2.45|                2.75|        0.0| 0.0|     23.67|                  N|                N|                  |               N|             N|\n",
      "|           HV0003|              B03404|              B03404|2022-01-01 00:13:49|2022-01-01 00:16:15|2022-01-01 00:17:02|2022-01-01 00:40:09|         261|         223|     11.29|     1387|               34.9|  0.0|1.05|      3.1|                2.75|        0.0| 0.0|     25.17|                  N|                N|                  |               N|             N|\n",
      "|           HV0003|              B03404|              B03404|2022-01-01 00:39:10|2022-01-01 00:42:59|2022-01-01 00:43:20|2022-01-01 00:47:31|         223|         223|      0.87|      251|               7.91|  0.0|0.24|      0.7|                 0.0|        0.0| 0.0|      6.51|                  N|                N|                  |               N|             N|\n",
      "|           HV0003|              B03404|              B03404|2022-01-01 00:45:50|2022-01-01 00:52:15|2022-01-01 00:52:29|2022-01-01 01:01:48|         223|           7|      1.89|      559|               9.71|  0.0|0.29|     0.86|                 0.0|        0.0| 0.0|      7.89|                  N|                N|                  |               N|             N|\n",
      "|           HV0005|              B03406|                NULL|2022-01-01 00:36:54|               NULL|2022-01-01 00:45:34|2022-01-01 00:54:11|          88|         148|     3.585|      810|              27.02|  0.0|0.81|      2.4|                2.75|        0.0| 0.0|     21.08|                  N|                N|                 N|               N|             N|\n",
      "|           HV0003|              B03404|              B03404|2022-01-01 00:07:13|2022-01-01 00:12:03|2022-01-01 00:12:03|2022-01-01 00:35:07|         246|         243|       9.2|     1384|              30.37|  0.0|0.91|      2.7|                2.75|        0.0| 0.0|     22.69|                  N|                N|                  |               N|             N|\n",
      "|           HV0003|              B03404|              B03404|2022-01-01 00:53:32|2022-01-01 00:58:14|2022-01-01 00:58:26|2022-01-01 01:07:23|         243|         127|      1.88|      537|              15.02|  0.0|0.45|     1.33|                 0.0|        0.0| 2.0|     10.02|                  N|                N|                  |               N|             N|\n",
      "|           HV0005|              B03406|                NULL|2022-01-01 00:28:07|               NULL|2022-01-01 00:34:59|2022-01-01 00:50:15|         239|         170|     2.699|      916|              20.47|  0.0|0.61|     1.82|                2.75|        0.0| 0.0|     10.66|                  N|                N|                 N|               N|             N|\n",
      "|           HV0005|              B03406|                NULL|2022-01-01 00:45:44|               NULL|2022-01-01 00:58:09|2022-01-01 01:28:23|         170|         265|     8.037|     1904|              24.63| 20.0|1.34|      0.0|                 0.0|        0.0| 0.0|     26.63|                  N|                N|                 N|               N|             N|\n",
      "|           HV0003|              B03404|              B03404|2022-01-01 00:21:54|2022-01-01 00:26:15|2022-01-01 00:28:15|2022-01-01 00:38:52|         223|         179|      1.69|      637|               9.81|  0.0|0.29|     0.87|                 0.0|        0.0| 0.0|      9.55|                  N|                N|                  |               N|             N|\n",
      "|           HV0003|              B03404|              B03404|2022-01-01 00:35:08|2022-01-01 00:43:55|2022-01-01 00:45:55|2022-01-01 00:53:47|         179|           7|      0.87|      472|              10.53|  0.0|0.32|     0.93|                 0.0|        0.0| 0.0|      9.22|                  N|                N|                  |               N|             N|\n",
      "+-----------------+--------------------+--------------------+-------------------+-------------------+-------------------+-------------------+------------+------------+----------+---------+-------------------+-----+----+---------+--------------------+-----------+----+----------+-------------------+-----------------+------------------+----------------+--------------+\n",
      "only showing top 20 rows\n",
      "\n"
     ]
    }
   ],
   "source": [
    "df.show()"
   ]
  },
  {
   "cell_type": "code",
   "execution_count": 7,
   "id": "881b2c91-254c-4f63-966f-2ca988cad376",
   "metadata": {},
   "outputs": [
    {
     "data": {
      "text/plain": [
       "StructType([StructField('hvfhs_license_num', StringType(), True), StructField('dispatching_base_num', StringType(), True), StructField('originating_base_num', StringType(), True), StructField('request_datetime', TimestampNTZType(), True), StructField('on_scene_datetime', TimestampNTZType(), True), StructField('pickup_datetime', TimestampNTZType(), True), StructField('dropoff_datetime', TimestampNTZType(), True), StructField('PULocationID', LongType(), True), StructField('DOLocationID', LongType(), True), StructField('trip_miles', DoubleType(), True), StructField('trip_time', LongType(), True), StructField('base_passenger_fare', DoubleType(), True), StructField('tolls', DoubleType(), True), StructField('bcf', DoubleType(), True), StructField('sales_tax', DoubleType(), True), StructField('congestion_surcharge', DoubleType(), True), StructField('airport_fee', DoubleType(), True), StructField('tips', DoubleType(), True), StructField('driver_pay', DoubleType(), True), StructField('shared_request_flag', StringType(), True), StructField('shared_match_flag', StringType(), True), StructField('access_a_ride_flag', StringType(), True), StructField('wav_request_flag', StringType(), True), StructField('wav_match_flag', StringType(), True)])"
      ]
     },
     "execution_count": 7,
     "metadata": {},
     "output_type": "execute_result"
    }
   ],
   "source": [
    "df.schema"
   ]
  },
  {
   "cell_type": "code",
   "execution_count": 8,
   "id": "0d93ef63-10fb-45f1-9d91-4cf5301e71cc",
   "metadata": {},
   "outputs": [
    {
     "name": "stdout",
     "output_type": "stream",
     "text": [
      "--2025-02-25 23:26:49--  https://data.cityofchicago.org/resource/85ca-t3if.json\n",
      "Resolving data.cityofchicago.org (data.cityofchicago.org)... 52.206.140.205, 52.206.140.199, 52.206.68.26\n",
      "Connecting to data.cityofchicago.org (data.cityofchicago.org)|52.206.140.205|:443... connected.\n",
      "HTTP request sent, awaiting response... 200 OK\n",
      "Length: unspecified [application/json]\n",
      "Saving to: ‘85ca-t3if.json’\n",
      "\n",
      "85ca-t3if.json          [ <=>                ]   1.29M  7.22MB/s    in 0.2s    \n",
      "\n",
      "2025-02-25 23:26:50 (7.22 MB/s) - ‘85ca-t3if.json’ saved [1358422]\n",
      "\n"
     ]
    }
   ],
   "source": [
    "!wget https://data.cityofchicago.org/resource/85ca-t3if.json\n"
   ]
  },
  {
   "cell_type": "code",
   "execution_count": 9,
   "id": "26d73ffe-aa8c-4b7b-ba33-124ac172f53b",
   "metadata": {},
   "outputs": [
    {
     "name": "stdout",
     "output_type": "stream",
     "text": [
      "--2025-02-25 23:26:50--  https://data.cityofchicago.org/resource/85ca-t3if.csv\n",
      "Resolving data.cityofchicago.org (data.cityofchicago.org)... 52.206.140.205, 52.206.140.199, 52.206.68.26\n",
      "Connecting to data.cityofchicago.org (data.cityofchicago.org)|52.206.140.205|:443... connected.\n",
      "HTTP request sent, awaiting response... 200 OK\n",
      "Length: unspecified [text/csv]\n",
      "Saving to: ‘85ca-t3if.csv’\n",
      "\n",
      "85ca-t3if.csv           [ <=>                ] 602.71K  --.-KB/s    in 0.1s    \n",
      "\n",
      "2025-02-25 23:26:51 (5.59 MB/s) - ‘85ca-t3if.csv’ saved [617174]\n",
      "\n"
     ]
    }
   ],
   "source": [
    "!wget https://data.cityofchicago.org/resource/85ca-t3if.csv\n"
   ]
  },
  {
   "cell_type": "code",
   "execution_count": 3,
   "id": "abf672ee-3ee6-44b9-8207-959f18fc41d8",
   "metadata": {},
   "outputs": [
    {
     "name": "stderr",
     "output_type": "stream",
     "text": [
      "25/02/25 23:52:41 WARN GarbageCollectionMetrics: To enable non-built-in garbage collector(s) List(G1 Concurrent GC), users should configure it(them) to spark.eventLog.gcMetrics.youngGenerationGarbageCollectors or spark.eventLog.gcMetrics.oldGenerationGarbageCollectors\n"
     ]
    }
   ],
   "source": [
    "df = spark.read \\\n",
    "    .option('header', 'true') \\\n",
    "    .csv('traffic_crashes.csv')"
   ]
  },
  {
   "cell_type": "code",
   "execution_count": 4,
   "id": "7ac314a6-71a8-4c39-8c13-4d5c2562c82e",
   "metadata": {},
   "outputs": [
    {
     "name": "stderr",
     "output_type": "stream",
     "text": [
      "25/02/25 23:52:47 WARN SparkStringUtils: Truncated the string representation of a plan since it was too large. This behavior can be adjusted by setting 'spark.sql.debug.maxToStringFields'.\n"
     ]
    },
    {
     "name": "stdout",
     "output_type": "stream",
     "text": [
      "+--------------------+----------------+--------------------+------------------+----------------------+--------------------+--------------------+--------------------+--------------------+--------------------+--------+------------------+--------------------+-----------+--------------------+--------------------+----------------------+------------------+-------------+-------------+--------------------+-----------------------+----------------------+---------+----------------+-------------+------------------+--------------+------------------+---------+-----------+--------------+-----------------+---------+--------------------+--------------+--------------+-----------------------+---------------------------+-----------------------------+----------------------+----------------+----------+-----------------+-----------+-------------+--------------+--------------------+\n",
      "|     crash_record_id|crash_date_est_i|          crash_date|posted_speed_limit|traffic_control_device|    device_condition|   weather_condition|  lighting_condition|    first_crash_type|     trafficway_type|lane_cnt|         alignment|roadway_surface_cond|road_defect|         report_type|          crash_type|intersection_related_i|private_property_i|hit_and_run_i|       damage|date_police_notified|prim_contributory_cause|sec_contributory_cause|street_no|street_direction|  street_name|beat_of_occurrence|photos_taken_i|statements_taken_i|dooring_i|work_zone_i|work_zone_type|workers_present_i|num_units|  most_severe_injury|injuries_total|injuries_fatal|injuries_incapacitating|injuries_non_incapacitating|injuries_reported_not_evident|injuries_no_indication|injuries_unknown|crash_hour|crash_day_of_week|crash_month|     latitude|     longitude|            location|\n",
      "+--------------------+----------------+--------------------+------------------+----------------------+--------------------+--------------------+--------------------+--------------------+--------------------+--------+------------------+--------------------+-----------+--------------------+--------------------+----------------------+------------------+-------------+-------------+--------------------+-----------------------+----------------------+---------+----------------+-------------+------------------+--------------+------------------+---------+-----------+--------------+-----------------+---------+--------------------+--------------+--------------+-----------------------+---------------------------+-----------------------------+----------------------+----------------+----------+-----------------+-----------+-------------+--------------+--------------------+\n",
      "|1d7194468e8032e46...|            NULL|2025-02-25T00:08:...|                25|        TRAFFIC SIGNAL|FUNCTIONING PROPERLY|                RAIN|DARKNESS, LIGHTED...|             HEAD ON|            FOUR WAY|    NULL|STRAIGHT AND LEVEL|                 WET| NO DEFECTS|            ON SCENE|INJURY AND / OR T...|                     Y|              NULL|         NULL|  OVER $1,500|2025-02-25T00:10:...|   DISREGARDING TRAF...|  DISREGARDING TRAF...|      404|               S|     WELLS ST|               122|          NULL|              NULL|     NULL|       NULL|          NULL|             NULL|        2|REPORTED, NOT EVI...|             1|             0|                      0|                          0|                            1|                     1|               0|         0|                3|          2|41.8766941556|-87.6338368383|POINT (-87.633836...|\n",
      "|d052147931cd03801...|            NULL|2025-02-24T23:24:...|                30|           NO CONTROLS|             UNKNOWN|             UNKNOWN|DARKNESS, LIGHTED...|PARKED MOTOR VEHICLE|             ONE-WAY|    NULL|STRAIGHT AND LEVEL|             UNKNOWN|    UNKNOWN|            ON SCENE|INJURY AND / OR T...|                  NULL|              NULL|            Y|  OVER $1,500|2025-02-24T23:24:...|    UNABLE TO DETERMINE|        NOT APPLICABLE|     2865|               W|      61ST ST|               823|          NULL|              NULL|     NULL|       NULL|          NULL|             NULL|        2|NO INDICATION OF ...|             0|             0|                      0|                          0|                            0|                     1|               0|        23|                2|          2|41.7826148359|-87.6958675143|POINT (-87.695867...|\n",
      "|0f2e51017e5a04c1c...|            NULL|2025-02-24T23:00:...|                45|           NO CONTROLS|         NO CONTROLS|                RAIN|DARKNESS, LIGHTED...|        FIXED OBJECT|DIVIDED - W/MEDIA...|    NULL|STRAIGHT AND LEVEL|                 WET| NO DEFECTS|            ON SCENE|INJURY AND / OR T...|                  NULL|              NULL|         NULL|  OVER $1,500|2025-02-24T23:07:...|                WEATHER|               WEATHER|     1000|               N|LAKE SHORE DR|              1824|          NULL|              NULL|     NULL|       NULL|          NULL|             NULL|        1|NO INDICATION OF ...|             0|             0|                      0|                          0|                            0|                     1|               0|        23|                2|          2| 41.900752974|-87.6242349998|POINT (-87.624234...|\n",
      "|445aa1a428c2690d4...|            NULL|2025-02-24T21:56:...|                30|     STOP SIGN/FLASHER|FUNCTIONING PROPERLY|               CLEAR|DARKNESS, LIGHTED...|            REAR END|DIVIDED - W/MEDIA...|    NULL|STRAIGHT AND LEVEL|                 DRY| NO DEFECTS|NOT ON SCENE (DES...|NO INJURY / DRIVE...|                  NULL|              NULL|            Y|  OVER $1,500|2025-02-24T23:15:...|   FOLLOWING TOO CLO...|  FAILING TO YIELD ...|        1|               W|      63RD ST|               312|          NULL|              NULL|     NULL|       NULL|          NULL|             NULL|        2|NO INDICATION OF ...|             0|             0|                      0|                          0|                            0|                     6|               0|        21|                2|          2|41.7799481519|-87.6254270846|POINT (-87.625427...|\n",
      "|184edfee55da7fc3a...|            NULL|2025-02-24T21:32:...|                30|        TRAFFIC SIGNAL|FUNCTIONING PROPERLY|                RAIN|DARKNESS, LIGHTED...|             TURNING|DIVIDED - W/MEDIA...|    NULL|STRAIGHT AND LEVEL|                 WET|    UNKNOWN|            ON SCENE|INJURY AND / OR T...|                     Y|              NULL|            Y|  OVER $1,500|2025-02-24T21:32:...|   FAILING TO YIELD ...|  FAILING TO REDUCE...|      200|               W|       OAK ST|              1823|          NULL|              NULL|     NULL|       NULL|          NULL|             NULL|        2|NONINCAPACITATING...|             1|             0|                      0|                          1|                            0|                     1|               0|        21|                2|          2|41.9006525832|-87.6344285506|POINT (-87.634428...|\n",
      "|a31da153b0651037b...|               Y|2025-02-24T21:24:...|                30|           NO CONTROLS|         NO CONTROLS|               CLEAR|DARKNESS, LIGHTED...|             TURNING|         NOT DIVIDED|    NULL|STRAIGHT AND LEVEL|                 DRY| NO DEFECTS|            ON SCENE|INJURY AND / OR T...|                     Y|              NULL|            Y|  OVER $1,500|2025-02-24T22:45:...|   IMPROPER TURNING/...|  FAILING TO YIELD ...|     2000|               N|    MOZART ST|              1414|          NULL|              NULL|     NULL|       NULL|          NULL|             NULL|        2|NO INDICATION OF ...|             0|             0|                      0|                          0|                            0|                     2|               0|        21|                2|          2| 41.917527101|-87.6987474197|POINT (-87.698747...|\n",
      "|eb312c9a12f176a4b...|            NULL|2025-02-24T21:08:...|                30|        TRAFFIC SIGNAL|FUNCTIONING PROPERLY|FREEZING RAIN/DRI...|DARKNESS, LIGHTED...|             TURNING|         NOT DIVIDED|    NULL|STRAIGHT AND LEVEL|                 WET| NO DEFECTS|NOT ON SCENE (DES...|INJURY AND / OR T...|                  NULL|              NULL|         NULL| $500 OR LESS|2025-02-24T22:26:...|   IMPROPER TURNING/...|  DRIVING SKILLS/KN...|      230|               W|  CHICAGO AVE|              1823|          NULL|              NULL|     NULL|       NULL|          NULL|             NULL|        2|REPORTED, NOT EVI...|             1|             0|                      0|                          0|                            1|                     3|               0|        21|                2|          2|41.8966963069|-87.6355446422|POINT (-87.635544...|\n",
      "|d7b37ee510e706d19...|            NULL|2025-02-24T20:58:...|                30|        TRAFFIC SIGNAL|FUNCTIONING PROPERLY|               CLEAR|DARKNESS, LIGHTED...|               ANGLE|               OTHER|    NULL|STRAIGHT AND LEVEL|               OTHER|    UNKNOWN|            ON SCENE|NO INJURY / DRIVE...|                     Y|              NULL|         NULL|  OVER $1,500|2025-02-24T20:58:...|   DISTRACTION - FRO...|        NOT APPLICABLE|      100|               S|DESPLAINES ST|               121|          NULL|              NULL|     NULL|       NULL|          NULL|             NULL|        2|NO INDICATION OF ...|             0|             0|                      0|                          0|                            0|                     5|               0|        20|                2|          2|41.8804959314|-87.6442280645|POINT (-87.644228...|\n",
      "|38c533ec011bd5289...|            NULL|2025-02-24T20:30:...|                25|               UNKNOWN|             UNKNOWN|               CLEAR|DARKNESS, LIGHTED...|             TURNING|            FOUR WAY|    NULL|STRAIGHT AND LEVEL|                 WET|    UNKNOWN|NOT ON SCENE (DES...|NO INJURY / DRIVE...|                     Y|              NULL|         NULL|  OVER $1,500|2025-02-24T22:15:...|    UNABLE TO DETERMINE|        NOT APPLICABLE|     5131|               N|     CLARK ST|              2033|          NULL|              NULL|     NULL|       NULL|          NULL|             NULL|        2|NO INDICATION OF ...|             0|             0|                      0|                          0|                            0|                     2|               0|        20|                2|          2|41.9752407065|-87.6681657075|POINT (-87.668165...|\n",
      "|4501f47286acbf381...|            NULL|2025-02-24T20:10:...|                30|           NO CONTROLS|         NO CONTROLS|               CLEAR|                DUSK|PARKED MOTOR VEHICLE|             ONE-WAY|    NULL|STRAIGHT AND LEVEL|                 DRY| NO DEFECTS|            ON SCENE|NO INJURY / DRIVE...|                  NULL|              NULL|         NULL|  OVER $1,500|2025-02-24T20:10:...|   VISION OBSCURED (...|  VISION OBSCURED (...|     7135|               S| MICHIGAN AVE|               323|          NULL|              NULL|     NULL|       NULL|          NULL|             NULL|        2|NO INDICATION OF ...|             0|             0|                      0|                          0|                            0|                     2|               0|        20|                2|          2| 41.764528931|-87.6215205643|POINT (-87.621520...|\n",
      "|2d0318965d60d64c4...|            NULL|2025-02-24T20:00:...|                25|        TRAFFIC SIGNAL|FUNCTIONING PROPERLY|               CLEAR|DARKNESS, LIGHTED...|            REAR END|            FOUR WAY|    NULL|STRAIGHT AND LEVEL|                 DRY|    UNKNOWN|NOT ON SCENE (DES...|INJURY AND / OR T...|                     Y|              NULL|         NULL|$501 - $1,500|2025-02-24T20:45:...|    UNABLE TO DETERMINE|   UNABLE TO DETERMINE|      811|               W|      99TH ST|              2232|          NULL|              NULL|     NULL|       NULL|          NULL|             NULL|        2|NO INDICATION OF ...|             0|             0|                      0|                          0|                            0|                     2|               0|        20|                2|          2|41.7140987683|-87.6434886967|POINT (-87.643488...|\n",
      "|3f9fc613850cf095e...|            NULL|2025-02-24T19:57:...|                30|           NO CONTROLS|         NO CONTROLS|               CLEAR|DARKNESS, LIGHTED...|          PEDESTRIAN|      T-INTERSECTION|    NULL|STRAIGHT AND LEVEL|                 DRY| NO DEFECTS|            ON SCENE|INJURY AND / OR T...|                     Y|              NULL|            Y|$501 - $1,500|2025-02-24T19:57:...|   FAILING TO YIELD ...|   UNABLE TO DETERMINE|     5452|               W|    NORTH AVE|              2532|          NULL|              NULL|     NULL|       NULL|          NULL|             NULL|        2|INCAPACITATING IN...|             1|             0|                      1|                          0|                            0|                     1|               0|        19|                2|          2|41.9095225351|-87.7627113501|POINT (-87.762711...|\n",
      "|eb694a18bf340599c...|            NULL|2025-02-24T19:45:...|                20|     STOP SIGN/FLASHER|         NO CONTROLS|               CLEAR|DARKNESS, LIGHTED...|       REAR TO FRONT|         NOT DIVIDED|    NULL|STRAIGHT AND LEVEL|                 DRY| NO DEFECTS|            ON SCENE|NO INJURY / DRIVE...|                  NULL|              NULL|         NULL| $500 OR LESS|2025-02-24T19:48:...|       IMPROPER BACKING|        NOT APPLICABLE|      149|               W|      POLK ST|               123|          NULL|              NULL|     NULL|       NULL|          NULL|             NULL|        2|NO INDICATION OF ...|             0|             0|                      0|                          0|                            0|                     2|               0|        19|                2|          2|41.8720798903|-87.6323332565|POINT (-87.632333...|\n",
      "|29fe9fe7babda2fc6...|            NULL|2025-02-24T19:15:...|                30|        TRAFFIC SIGNAL|FUNCTIONING PROPERLY|               CLEAR|DARKNESS, LIGHTED...|            REAR END|            FOUR WAY|    NULL|STRAIGHT AND LEVEL|                 DRY| NO DEFECTS|            ON SCENE|INJURY AND / OR T...|                  NULL|              NULL|            N|  OVER $1,500|2025-02-24T19:31:...|    UNABLE TO DETERMINE|        NOT APPLICABLE|     4401|               W|      31ST ST|              1031|          NULL|              NULL|     NULL|       NULL|          NULL|             NULL|        2|REPORTED, NOT EVI...|             1|             0|                      0|                          0|                            1|                     4|               0|        19|                2|          2|41.8362989489|-87.7341833352|POINT (-87.734183...|\n",
      "|14081270fe15819fe...|            NULL|2025-02-24T19:13:...|                30|     STOP SIGN/FLASHER|FUNCTIONING PROPERLY|               CLEAR|DARKNESS, LIGHTED...|               ANGLE|         NOT DIVIDED|    NULL|STRAIGHT AND LEVEL|                 DRY| NO DEFECTS|NOT ON SCENE (DES...|NO INJURY / DRIVE...|                     Y|              NULL|         NULL|  OVER $1,500|2025-02-24T19:45:...|    UNABLE TO DETERMINE|        NOT APPLICABLE|     1900|               N| CAMPBELL AVE|              1434|          NULL|              NULL|     NULL|       NULL|          NULL|             NULL|        2|NO INDICATION OF ...|             0|             0|                      0|                          0|                            0|                     4|               0|        19|                2|          2| 41.915782479|-87.6899558264|POINT (-87.689955...|\n",
      "|796ffbf8012e3f537...|            NULL|2025-02-24T19:00:...|                30|               UNKNOWN|             UNKNOWN|             UNKNOWN|             UNKNOWN|PARKED MOTOR VEHICLE|         NOT DIVIDED|    NULL|STRAIGHT AND LEVEL|             UNKNOWN|    UNKNOWN|            ON SCENE|NO INJURY / DRIVE...|                  NULL|              NULL|            Y|  OVER $1,500|2025-02-24T19:05:...|    UNABLE TO DETERMINE|   UNABLE TO DETERMINE|     1298|               W|  CARROLL AVE|              1215|          NULL|              NULL|     NULL|       NULL|          NULL|             NULL|        2|NO INDICATION OF ...|             0|             0|                      0|                          0|                            0|                     1|               0|        19|                2|          2|41.8877887056|-87.6588186544|POINT (-87.658818...|\n",
      "|29f0092d70ad29769...|            NULL|2025-02-24T18:58:...|                30|           NO CONTROLS|         NO CONTROLS|               CLEAR|            DARKNESS|          PEDESTRIAN|DIVIDED - W/MEDIA...|    NULL|STRAIGHT AND LEVEL|                 DRY| NO DEFECTS|            ON SCENE|INJURY AND / OR T...|                  NULL|              NULL|         NULL| $500 OR LESS|2025-02-24T19:07:...|    UNABLE TO DETERMINE|   IMPROPER LANE USAGE|     2536|               W|    DEVON AVE|              2412|          NULL|              NULL|     NULL|       NULL|          NULL|             NULL|        2|NONINCAPACITATING...|             1|             0|                      0|                          1|                            0|                     1|               0|        18|                2|          2| 41.997773648|-87.6937767045|POINT (-87.693776...|\n",
      "|ca075fd74bea41e4c...|            NULL|2025-02-24T18:47:...|                30|        TRAFFIC SIGNAL|FUNCTIONING PROPERLY|               CLEAR|DARKNESS, LIGHTED...|               ANGLE|            FOUR WAY|    NULL|STRAIGHT AND LEVEL|                 DRY|    UNKNOWN|NOT ON SCENE (DES...|NO INJURY / DRIVE...|                     Y|              NULL|            Y|$501 - $1,500|2025-02-24T19:30:...|    UNABLE TO DETERMINE|   UNABLE TO DETERMINE|      801|               W|     127TH ST|               523|          NULL|              NULL|     NULL|       NULL|          NULL|             NULL|        2|NO INDICATION OF ...|             0|             0|                      0|                          0|                            0|                     2|               0|        18|                2|          2|41.6631345332|-87.6414798673|POINT (-87.641479...|\n",
      "|294026902486083ec...|            NULL|2025-02-24T18:36:...|                30|        TRAFFIC SIGNAL|FUNCTIONING PROPERLY|               CLEAR|DARKNESS, LIGHTED...|SIDESWIPE SAME DI...|DIVIDED - W/MEDIA...|    NULL|STRAIGHT AND LEVEL|                 DRY| NO DEFECTS|            ON SCENE|NO INJURY / DRIVE...|                  NULL|              NULL|         NULL| $500 OR LESS|2025-02-24T18:36:...|   FAILING TO YIELD ...|        NOT APPLICABLE|     1158|               S| MICHIGAN AVE|               123|          NULL|              NULL|     NULL|       NULL|          NULL|             NULL|        2|NO INDICATION OF ...|             0|             0|                      0|                          0|                            0|                     3|               0|        18|                2|          2|41.8675536341|-87.6242715489|POINT (-87.624271...|\n",
      "|742d287838eab1115...|            NULL|2025-02-24T18:22:...|                20|           NO CONTROLS|         NO CONTROLS|               CLEAR|                DUSK|PARKED MOTOR VEHICLE|         PARKING LOT|    NULL|STRAIGHT AND LEVEL|                 DRY|    UNKNOWN|            ON SCENE|NO INJURY / DRIVE...|                  NULL|              NULL|         NULL|  OVER $1,500|2025-02-24T18:25:...|    UNABLE TO DETERMINE|        NOT APPLICABLE|      630|               W|     OHARE ST|              1654|          NULL|              NULL|     NULL|       NULL|          NULL|             NULL|        2|NO INDICATION OF ...|             0|             0|                      0|                          0|                            0|                     1|               0|        18|                2|          2|         NULL|          NULL|                NULL|\n",
      "+--------------------+----------------+--------------------+------------------+----------------------+--------------------+--------------------+--------------------+--------------------+--------------------+--------+------------------+--------------------+-----------+--------------------+--------------------+----------------------+------------------+-------------+-------------+--------------------+-----------------------+----------------------+---------+----------------+-------------+------------------+--------------+------------------+---------+-----------+--------------+-----------------+---------+--------------------+--------------+--------------+-----------------------+---------------------------+-----------------------------+----------------------+----------------+----------+-----------------+-----------+-------------+--------------+--------------------+\n",
      "only showing top 20 rows\n",
      "\n"
     ]
    }
   ],
   "source": [
    "df.show()"
   ]
  },
  {
   "cell_type": "code",
   "execution_count": 5,
   "id": "6152453d-ffdf-49dd-8e21-55cf4168e80d",
   "metadata": {},
   "outputs": [
    {
     "data": {
      "text/plain": [
       "StructType([StructField('crash_record_id', StringType(), True), StructField('crash_date_est_i', StringType(), True), StructField('crash_date', StringType(), True), StructField('posted_speed_limit', StringType(), True), StructField('traffic_control_device', StringType(), True), StructField('device_condition', StringType(), True), StructField('weather_condition', StringType(), True), StructField('lighting_condition', StringType(), True), StructField('first_crash_type', StringType(), True), StructField('trafficway_type', StringType(), True), StructField('lane_cnt', StringType(), True), StructField('alignment', StringType(), True), StructField('roadway_surface_cond', StringType(), True), StructField('road_defect', StringType(), True), StructField('report_type', StringType(), True), StructField('crash_type', StringType(), True), StructField('intersection_related_i', StringType(), True), StructField('private_property_i', StringType(), True), StructField('hit_and_run_i', StringType(), True), StructField('damage', StringType(), True), StructField('date_police_notified', StringType(), True), StructField('prim_contributory_cause', StringType(), True), StructField('sec_contributory_cause', StringType(), True), StructField('street_no', StringType(), True), StructField('street_direction', StringType(), True), StructField('street_name', StringType(), True), StructField('beat_of_occurrence', StringType(), True), StructField('photos_taken_i', StringType(), True), StructField('statements_taken_i', StringType(), True), StructField('dooring_i', StringType(), True), StructField('work_zone_i', StringType(), True), StructField('work_zone_type', StringType(), True), StructField('workers_present_i', StringType(), True), StructField('num_units', StringType(), True), StructField('most_severe_injury', StringType(), True), StructField('injuries_total', StringType(), True), StructField('injuries_fatal', StringType(), True), StructField('injuries_incapacitating', StringType(), True), StructField('injuries_non_incapacitating', StringType(), True), StructField('injuries_reported_not_evident', StringType(), True), StructField('injuries_no_indication', StringType(), True), StructField('injuries_unknown', StringType(), True), StructField('crash_hour', StringType(), True), StructField('crash_day_of_week', StringType(), True), StructField('crash_month', StringType(), True), StructField('latitude', StringType(), True), StructField('longitude', StringType(), True), StructField('location', StringType(), True)])"
      ]
     },
     "execution_count": 5,
     "metadata": {},
     "output_type": "execute_result"
    }
   ],
   "source": [
    "df.schema"
   ]
  },
  {
   "cell_type": "code",
   "execution_count": 8,
   "id": "56fdad60-5074-4d9f-970d-519f325170fd",
   "metadata": {},
   "outputs": [],
   "source": [
    "\n",
    "!head -n 101 traffic_crashes.csv > head.csv"
   ]
  },
  {
   "cell_type": "code",
   "execution_count": 9,
   "id": "9acc4dad-8315-4dd7-a59d-2e594ba059d8",
   "metadata": {},
   "outputs": [],
   "source": [
    "import pandas as pd\n",
    "df_pandas = pd.read_csv('head.csv')"
   ]
  },
  {
   "cell_type": "code",
   "execution_count": 10,
   "id": "2573f225-326f-40f5-a482-ca9129c39571",
   "metadata": {},
   "outputs": [
    {
     "data": {
      "text/plain": [
       "crash_record_id                   object\n",
       "crash_date_est_i                  object\n",
       "crash_date                        object\n",
       "posted_speed_limit                 int64\n",
       "traffic_control_device            object\n",
       "device_condition                  object\n",
       "weather_condition                 object\n",
       "lighting_condition                object\n",
       "first_crash_type                  object\n",
       "trafficway_type                   object\n",
       "lane_cnt                         float64\n",
       "alignment                         object\n",
       "roadway_surface_cond              object\n",
       "road_defect                       object\n",
       "report_type                       object\n",
       "crash_type                        object\n",
       "intersection_related_i            object\n",
       "private_property_i                object\n",
       "hit_and_run_i                     object\n",
       "damage                            object\n",
       "date_police_notified              object\n",
       "prim_contributory_cause           object\n",
       "sec_contributory_cause            object\n",
       "street_no                          int64\n",
       "street_direction                  object\n",
       "street_name                       object\n",
       "beat_of_occurrence                 int64\n",
       "photos_taken_i                    object\n",
       "statements_taken_i                object\n",
       "dooring_i                        float64\n",
       "work_zone_i                      float64\n",
       "work_zone_type                   float64\n",
       "workers_present_i                float64\n",
       "num_units                          int64\n",
       "most_severe_injury                object\n",
       "injuries_total                     int64\n",
       "injuries_fatal                     int64\n",
       "injuries_incapacitating            int64\n",
       "injuries_non_incapacitating        int64\n",
       "injuries_reported_not_evident      int64\n",
       "injuries_no_indication             int64\n",
       "injuries_unknown                   int64\n",
       "crash_hour                         int64\n",
       "crash_day_of_week                  int64\n",
       "crash_month                        int64\n",
       "latitude                         float64\n",
       "longitude                        float64\n",
       "location                          object\n",
       "dtype: object"
      ]
     },
     "execution_count": 10,
     "metadata": {},
     "output_type": "execute_result"
    }
   ],
   "source": [
    "df_pandas.dtypes"
   ]
  },
  {
   "cell_type": "code",
   "execution_count": 17,
   "id": "11b1e20b-f90c-42ce-b12b-5c1970946730",
   "metadata": {},
   "outputs": [],
   "source": [
    "columns_order=[\"crash_record_id\", \"crash_date\", \"posted_speed_limit\", \"weather_condition\",\"lighting_condition\",\"roadway_surface_cond\", \"crash_type\"\n",
    "         ,\"injuries_total\", \"injuries_fatal\",\"injuries_incapacitating\", \"injuries_non_incapacitating\", \"location\" ]\n"
   ]
  },
  {
   "cell_type": "code",
   "execution_count": 18,
   "id": "37fe81f7-c9e1-4dc9-9208-9801d6384bae",
   "metadata": {},
   "outputs": [],
   "source": [
    "df_pandas=df_pandas[columns_order]"
   ]
  },
  {
   "cell_type": "code",
   "execution_count": 19,
   "id": "b5a930af-b4ec-4d4e-a5e6-9171ee04cea0",
   "metadata": {},
   "outputs": [
    {
     "data": {
      "text/html": [
       "<div>\n",
       "<style scoped>\n",
       "    .dataframe tbody tr th:only-of-type {\n",
       "        vertical-align: middle;\n",
       "    }\n",
       "\n",
       "    .dataframe tbody tr th {\n",
       "        vertical-align: top;\n",
       "    }\n",
       "\n",
       "    .dataframe thead th {\n",
       "        text-align: right;\n",
       "    }\n",
       "</style>\n",
       "<table border=\"1\" class=\"dataframe\">\n",
       "  <thead>\n",
       "    <tr style=\"text-align: right;\">\n",
       "      <th></th>\n",
       "      <th>crash_record_id</th>\n",
       "      <th>crash_date</th>\n",
       "      <th>posted_speed_limit</th>\n",
       "      <th>weather_condition</th>\n",
       "      <th>lighting_condition</th>\n",
       "      <th>roadway_surface_cond</th>\n",
       "      <th>crash_type</th>\n",
       "      <th>injuries_total</th>\n",
       "      <th>injuries_fatal</th>\n",
       "      <th>injuries_incapacitating</th>\n",
       "      <th>injuries_non_incapacitating</th>\n",
       "      <th>location</th>\n",
       "    </tr>\n",
       "  </thead>\n",
       "  <tbody>\n",
       "    <tr>\n",
       "      <th>0</th>\n",
       "      <td>1d7194468e8032e460bfcb3d5579fedd6ba4fd8bc341ef...</td>\n",
       "      <td>2025-02-25T00:08:00.000</td>\n",
       "      <td>25</td>\n",
       "      <td>RAIN</td>\n",
       "      <td>DARKNESS, LIGHTED ROAD</td>\n",
       "      <td>WET</td>\n",
       "      <td>INJURY AND / OR TOW DUE TO CRASH</td>\n",
       "      <td>1</td>\n",
       "      <td>0</td>\n",
       "      <td>0</td>\n",
       "      <td>0</td>\n",
       "      <td>POINT (-87.633836838333 41.876694155636)</td>\n",
       "    </tr>\n",
       "    <tr>\n",
       "      <th>1</th>\n",
       "      <td>d052147931cd03801368e87bc8dcf6cb042d97038e1807...</td>\n",
       "      <td>2025-02-24T23:24:00.000</td>\n",
       "      <td>30</td>\n",
       "      <td>UNKNOWN</td>\n",
       "      <td>DARKNESS, LIGHTED ROAD</td>\n",
       "      <td>UNKNOWN</td>\n",
       "      <td>INJURY AND / OR TOW DUE TO CRASH</td>\n",
       "      <td>0</td>\n",
       "      <td>0</td>\n",
       "      <td>0</td>\n",
       "      <td>0</td>\n",
       "      <td>POINT (-87.695867514328 41.782614835919)</td>\n",
       "    </tr>\n",
       "    <tr>\n",
       "      <th>2</th>\n",
       "      <td>0f2e51017e5a04c1cc1c24b540f0bd13601df5ce9fa03a...</td>\n",
       "      <td>2025-02-24T23:00:00.000</td>\n",
       "      <td>45</td>\n",
       "      <td>RAIN</td>\n",
       "      <td>DARKNESS, LIGHTED ROAD</td>\n",
       "      <td>WET</td>\n",
       "      <td>INJURY AND / OR TOW DUE TO CRASH</td>\n",
       "      <td>0</td>\n",
       "      <td>0</td>\n",
       "      <td>0</td>\n",
       "      <td>0</td>\n",
       "      <td>POINT (-87.62423499978 41.900752974042)</td>\n",
       "    </tr>\n",
       "    <tr>\n",
       "      <th>3</th>\n",
       "      <td>445aa1a428c2690d4db388be479127a23b4cc5eba11940...</td>\n",
       "      <td>2025-02-24T21:56:00.000</td>\n",
       "      <td>30</td>\n",
       "      <td>CLEAR</td>\n",
       "      <td>DARKNESS, LIGHTED ROAD</td>\n",
       "      <td>DRY</td>\n",
       "      <td>NO INJURY / DRIVE AWAY</td>\n",
       "      <td>0</td>\n",
       "      <td>0</td>\n",
       "      <td>0</td>\n",
       "      <td>0</td>\n",
       "      <td>POINT (-87.625427084647 41.779948151941)</td>\n",
       "    </tr>\n",
       "    <tr>\n",
       "      <th>4</th>\n",
       "      <td>184edfee55da7fc3a365774382c0df56c47e85855531f8...</td>\n",
       "      <td>2025-02-24T21:32:00.000</td>\n",
       "      <td>30</td>\n",
       "      <td>RAIN</td>\n",
       "      <td>DARKNESS, LIGHTED ROAD</td>\n",
       "      <td>WET</td>\n",
       "      <td>INJURY AND / OR TOW DUE TO CRASH</td>\n",
       "      <td>1</td>\n",
       "      <td>0</td>\n",
       "      <td>0</td>\n",
       "      <td>1</td>\n",
       "      <td>POINT (-87.634428550638 41.900652583173)</td>\n",
       "    </tr>\n",
       "    <tr>\n",
       "      <th>...</th>\n",
       "      <td>...</td>\n",
       "      <td>...</td>\n",
       "      <td>...</td>\n",
       "      <td>...</td>\n",
       "      <td>...</td>\n",
       "      <td>...</td>\n",
       "      <td>...</td>\n",
       "      <td>...</td>\n",
       "      <td>...</td>\n",
       "      <td>...</td>\n",
       "      <td>...</td>\n",
       "      <td>...</td>\n",
       "    </tr>\n",
       "    <tr>\n",
       "      <th>95</th>\n",
       "      <td>d1faea21a4b50788c6c643b613fa59bf3553154d200f91...</td>\n",
       "      <td>2025-02-24T12:58:00.000</td>\n",
       "      <td>30</td>\n",
       "      <td>CLEAR</td>\n",
       "      <td>DAYLIGHT</td>\n",
       "      <td>DRY</td>\n",
       "      <td>NO INJURY / DRIVE AWAY</td>\n",
       "      <td>0</td>\n",
       "      <td>0</td>\n",
       "      <td>0</td>\n",
       "      <td>0</td>\n",
       "      <td>POINT (-87.722486186383 41.950965541421)</td>\n",
       "    </tr>\n",
       "    <tr>\n",
       "      <th>96</th>\n",
       "      <td>6ae7ab3c34fe5547ee2cec32bbfe492984fbedae9f4c62...</td>\n",
       "      <td>2025-02-24T12:54:00.000</td>\n",
       "      <td>35</td>\n",
       "      <td>CLEAR</td>\n",
       "      <td>DAYLIGHT</td>\n",
       "      <td>DRY</td>\n",
       "      <td>NO INJURY / DRIVE AWAY</td>\n",
       "      <td>0</td>\n",
       "      <td>0</td>\n",
       "      <td>0</td>\n",
       "      <td>0</td>\n",
       "      <td>POINT (-87.773220755008 41.909392318667)</td>\n",
       "    </tr>\n",
       "    <tr>\n",
       "      <th>97</th>\n",
       "      <td>5816d1ac24c989bd07921e6fe753880051778fff503508...</td>\n",
       "      <td>2025-02-24T12:40:00.000</td>\n",
       "      <td>25</td>\n",
       "      <td>CLEAR</td>\n",
       "      <td>DAYLIGHT</td>\n",
       "      <td>DRY</td>\n",
       "      <td>NO INJURY / DRIVE AWAY</td>\n",
       "      <td>0</td>\n",
       "      <td>0</td>\n",
       "      <td>0</td>\n",
       "      <td>0</td>\n",
       "      <td>POINT (-87.661493184691 41.689391766163)</td>\n",
       "    </tr>\n",
       "    <tr>\n",
       "      <th>98</th>\n",
       "      <td>cc954833f3b253ad06d52718f008554d02249bc58979e6...</td>\n",
       "      <td>2025-02-24T12:31:00.000</td>\n",
       "      <td>30</td>\n",
       "      <td>CLEAR</td>\n",
       "      <td>DAYLIGHT</td>\n",
       "      <td>DRY</td>\n",
       "      <td>NO INJURY / DRIVE AWAY</td>\n",
       "      <td>0</td>\n",
       "      <td>0</td>\n",
       "      <td>0</td>\n",
       "      <td>0</td>\n",
       "      <td>POINT (-87.727148226037 41.932604221966)</td>\n",
       "    </tr>\n",
       "    <tr>\n",
       "      <th>99</th>\n",
       "      <td>c46cc3e5a16e131a4e04695199fb2d61d2208da4acfcb6...</td>\n",
       "      <td>2025-02-24T12:30:00.000</td>\n",
       "      <td>15</td>\n",
       "      <td>CLEAR</td>\n",
       "      <td>DAYLIGHT</td>\n",
       "      <td>DRY</td>\n",
       "      <td>NO INJURY / DRIVE AWAY</td>\n",
       "      <td>0</td>\n",
       "      <td>0</td>\n",
       "      <td>0</td>\n",
       "      <td>0</td>\n",
       "      <td>POINT (-87.683032282703 41.851668726303)</td>\n",
       "    </tr>\n",
       "  </tbody>\n",
       "</table>\n",
       "<p>100 rows × 12 columns</p>\n",
       "</div>"
      ],
      "text/plain": [
       "                                      crash_record_id  \\\n",
       "0   1d7194468e8032e460bfcb3d5579fedd6ba4fd8bc341ef...   \n",
       "1   d052147931cd03801368e87bc8dcf6cb042d97038e1807...   \n",
       "2   0f2e51017e5a04c1cc1c24b540f0bd13601df5ce9fa03a...   \n",
       "3   445aa1a428c2690d4db388be479127a23b4cc5eba11940...   \n",
       "4   184edfee55da7fc3a365774382c0df56c47e85855531f8...   \n",
       "..                                                ...   \n",
       "95  d1faea21a4b50788c6c643b613fa59bf3553154d200f91...   \n",
       "96  6ae7ab3c34fe5547ee2cec32bbfe492984fbedae9f4c62...   \n",
       "97  5816d1ac24c989bd07921e6fe753880051778fff503508...   \n",
       "98  cc954833f3b253ad06d52718f008554d02249bc58979e6...   \n",
       "99  c46cc3e5a16e131a4e04695199fb2d61d2208da4acfcb6...   \n",
       "\n",
       "                 crash_date  posted_speed_limit weather_condition  \\\n",
       "0   2025-02-25T00:08:00.000                  25              RAIN   \n",
       "1   2025-02-24T23:24:00.000                  30           UNKNOWN   \n",
       "2   2025-02-24T23:00:00.000                  45              RAIN   \n",
       "3   2025-02-24T21:56:00.000                  30             CLEAR   \n",
       "4   2025-02-24T21:32:00.000                  30              RAIN   \n",
       "..                      ...                 ...               ...   \n",
       "95  2025-02-24T12:58:00.000                  30             CLEAR   \n",
       "96  2025-02-24T12:54:00.000                  35             CLEAR   \n",
       "97  2025-02-24T12:40:00.000                  25             CLEAR   \n",
       "98  2025-02-24T12:31:00.000                  30             CLEAR   \n",
       "99  2025-02-24T12:30:00.000                  15             CLEAR   \n",
       "\n",
       "        lighting_condition roadway_surface_cond  \\\n",
       "0   DARKNESS, LIGHTED ROAD                  WET   \n",
       "1   DARKNESS, LIGHTED ROAD              UNKNOWN   \n",
       "2   DARKNESS, LIGHTED ROAD                  WET   \n",
       "3   DARKNESS, LIGHTED ROAD                  DRY   \n",
       "4   DARKNESS, LIGHTED ROAD                  WET   \n",
       "..                     ...                  ...   \n",
       "95                DAYLIGHT                  DRY   \n",
       "96                DAYLIGHT                  DRY   \n",
       "97                DAYLIGHT                  DRY   \n",
       "98                DAYLIGHT                  DRY   \n",
       "99                DAYLIGHT                  DRY   \n",
       "\n",
       "                          crash_type  injuries_total  injuries_fatal  \\\n",
       "0   INJURY AND / OR TOW DUE TO CRASH               1               0   \n",
       "1   INJURY AND / OR TOW DUE TO CRASH               0               0   \n",
       "2   INJURY AND / OR TOW DUE TO CRASH               0               0   \n",
       "3             NO INJURY / DRIVE AWAY               0               0   \n",
       "4   INJURY AND / OR TOW DUE TO CRASH               1               0   \n",
       "..                               ...             ...             ...   \n",
       "95            NO INJURY / DRIVE AWAY               0               0   \n",
       "96            NO INJURY / DRIVE AWAY               0               0   \n",
       "97            NO INJURY / DRIVE AWAY               0               0   \n",
       "98            NO INJURY / DRIVE AWAY               0               0   \n",
       "99            NO INJURY / DRIVE AWAY               0               0   \n",
       "\n",
       "    injuries_incapacitating  injuries_non_incapacitating  \\\n",
       "0                         0                            0   \n",
       "1                         0                            0   \n",
       "2                         0                            0   \n",
       "3                         0                            0   \n",
       "4                         0                            1   \n",
       "..                      ...                          ...   \n",
       "95                        0                            0   \n",
       "96                        0                            0   \n",
       "97                        0                            0   \n",
       "98                        0                            0   \n",
       "99                        0                            0   \n",
       "\n",
       "                                    location  \n",
       "0   POINT (-87.633836838333 41.876694155636)  \n",
       "1   POINT (-87.695867514328 41.782614835919)  \n",
       "2    POINT (-87.62423499978 41.900752974042)  \n",
       "3   POINT (-87.625427084647 41.779948151941)  \n",
       "4   POINT (-87.634428550638 41.900652583173)  \n",
       "..                                       ...  \n",
       "95  POINT (-87.722486186383 41.950965541421)  \n",
       "96  POINT (-87.773220755008 41.909392318667)  \n",
       "97  POINT (-87.661493184691 41.689391766163)  \n",
       "98  POINT (-87.727148226037 41.932604221966)  \n",
       "99  POINT (-87.683032282703 41.851668726303)  \n",
       "\n",
       "[100 rows x 12 columns]"
      ]
     },
     "execution_count": 19,
     "metadata": {},
     "output_type": "execute_result"
    }
   ],
   "source": [
    "df_pandas"
   ]
  },
  {
   "cell_type": "code",
   "execution_count": 20,
   "id": "9ba60d7b-28f3-4062-a5aa-1f7c8885c67f",
   "metadata": {},
   "outputs": [
    {
     "data": {
      "text/plain": [
       "crash_record_id                object\n",
       "crash_date                     object\n",
       "posted_speed_limit              int64\n",
       "weather_condition              object\n",
       "lighting_condition             object\n",
       "roadway_surface_cond           object\n",
       "crash_type                     object\n",
       "injuries_total                  int64\n",
       "injuries_fatal                  int64\n",
       "injuries_incapacitating         int64\n",
       "injuries_non_incapacitating     int64\n",
       "location                       object\n",
       "dtype: object"
      ]
     },
     "execution_count": 20,
     "metadata": {},
     "output_type": "execute_result"
    }
   ],
   "source": [
    "df_pandas.dtypes"
   ]
  },
  {
   "cell_type": "code",
   "execution_count": 23,
   "id": "363313d4-b6e4-4512-8904-f693c178ed4a",
   "metadata": {},
   "outputs": [
    {
     "data": {
      "text/plain": [
       "StructType([StructField('crash_record_id', StringType(), True), StructField('crash_date', StringType(), True), StructField('posted_speed_limit', LongType(), True), StructField('weather_condition', StringType(), True), StructField('lighting_condition', StringType(), True), StructField('roadway_surface_cond', StringType(), True), StructField('crash_type', StringType(), True), StructField('injuries_total', LongType(), True), StructField('injuries_fatal', LongType(), True), StructField('injuries_incapacitating', LongType(), True), StructField('injuries_non_incapacitating', LongType(), True), StructField('location', StringType(), True)])"
      ]
     },
     "execution_count": 23,
     "metadata": {},
     "output_type": "execute_result"
    }
   ],
   "source": [
    "spark.createDataFrame(df_pandas).schema"
   ]
  },
  {
   "cell_type": "code",
   "execution_count": 30,
   "id": "1f43b85a-236e-446f-931b-fa0fd4f971dd",
   "metadata": {},
   "outputs": [],
   "source": [
    "from pyspark.sql import types"
   ]
  },
  {
   "cell_type": "code",
   "execution_count": 72,
   "id": "31a43f4c-740f-4674-b1f6-201fba1c80c4",
   "metadata": {},
   "outputs": [],
   "source": [
    "schema = types.StructType([\n",
    "    types.StructField('crash_record_id', types.StringType(), True), \n",
    "    types.StructField('crash_date', types.TimestampType(), True), \n",
    "    types.StructField('posted_speed_limit', types.IntegerType(), True), \n",
    "    types.StructField('weather_condition', types.StringType(), True), \n",
    "    types.StructField('lighting_condition', types.StringType(), True), \n",
    "    types.StructField('roadway_surface_cond', types.StringType(), True), \n",
    "    types.StructField('crash_type', types.StringType(), True), \n",
    "    types.StructField('injuries_total', types.IntegerType(), False), \n",
    "    types.StructField('injuries_fatal', types.IntegerType(), True),\n",
    "    types.StructField('injuries_incapacitating', types.IntegerType(), True), \n",
    "    types.StructField('injuries_non_incapacitating', types.IntegerType(), True), \n",
    "    types.StructField('location', types.StringType(), True)]\n",
    "    \n",
    ")"
   ]
  },
  {
   "cell_type": "code",
   "execution_count": 71,
   "id": "17cfc5c9-f233-4de9-820b-a05411897b3c",
   "metadata": {},
   "outputs": [],
   "source": [
    "df = spark.read \\\n",
    "    .option(\"header\", \"true\") \\\n",
    "    .schema(schema) \\\n",
    "    .csv('traffic_crashes.csv')"
   ]
  },
  {
   "cell_type": "code",
   "execution_count": 34,
   "id": "90bca6dd-8e07-492d-a6df-e495fe178ba1",
   "metadata": {},
   "outputs": [
    {
     "name": "stderr",
     "output_type": "stream",
     "text": [
      "25/02/26 00:27:36 WARN CSVHeaderChecker: Number of column in CSV header is not equal to number of fields in the schema:\n",
      " Header length: 48, schema size: 12\n",
      "CSV file: file:///home/leo/data-engineering-camp/week_5_batch_processing/traffic_crashes.csv\n"
     ]
    },
    {
     "data": {
      "text/plain": [
       "[Row(crash_record_id='1d7194468e8032e460bfcb3d5579fedd6ba4fd8bc341ef98790b7844f742b637a62d4df947eaa9611509e6320da75740bba80b5494cfd8aa32cb854378c228ac', crash_date=None, posted_speed_limit=None, weather_condition='25', lighting_condition='TRAFFIC SIGNAL', roadway_surface_cond='FUNCTIONING PROPERLY', crash_type='RAIN', injuries_total=None, injuries_fatal=None, injuries_incapacitating=None, injuries_non_incapacitating=None, location='STRAIGHT AND LEVEL'),\n",
       " Row(crash_record_id='d052147931cd03801368e87bc8dcf6cb042d97038e1807193b091d1473f21b007c7a23aa0c2e62acc557863c7a53932c29c0c622fdd72c67a215d2d51e352237', crash_date=None, posted_speed_limit=None, weather_condition='30', lighting_condition='NO CONTROLS', roadway_surface_cond='UNKNOWN', crash_type='UNKNOWN', injuries_total=None, injuries_fatal=None, injuries_incapacitating=None, injuries_non_incapacitating=None, location='STRAIGHT AND LEVEL'),\n",
       " Row(crash_record_id='0f2e51017e5a04c1cc1c24b540f0bd13601df5ce9fa03ac0983a3f791c2a2fe5a8f8995d60c16ca00c213c7de9e4835c1be50177427172180d80838fd601b708', crash_date=None, posted_speed_limit=None, weather_condition='45', lighting_condition='NO CONTROLS', roadway_surface_cond='NO CONTROLS', crash_type='RAIN', injuries_total=None, injuries_fatal=None, injuries_incapacitating=None, injuries_non_incapacitating=None, location='STRAIGHT AND LEVEL'),\n",
       " Row(crash_record_id='445aa1a428c2690d4db388be479127a23b4cc5eba119400bdc7a2a1df00b54cdcf263cb0bd350ad8269bca661679fab18b15fffbfddde32b1aab19f55d7b3fbb', crash_date=None, posted_speed_limit=None, weather_condition='30', lighting_condition='STOP SIGN/FLASHER', roadway_surface_cond='FUNCTIONING PROPERLY', crash_type='CLEAR', injuries_total=None, injuries_fatal=None, injuries_incapacitating=None, injuries_non_incapacitating=None, location='STRAIGHT AND LEVEL'),\n",
       " Row(crash_record_id='184edfee55da7fc3a365774382c0df56c47e85855531f8d43ef8a2cb8a9f3c4ae585026a29fb7d01f1ab1e3691aa5d12779114d3606109b8c0ff1f11797ed1a6', crash_date=None, posted_speed_limit=None, weather_condition='30', lighting_condition='TRAFFIC SIGNAL', roadway_surface_cond='FUNCTIONING PROPERLY', crash_type='RAIN', injuries_total=None, injuries_fatal=None, injuries_incapacitating=None, injuries_non_incapacitating=None, location='STRAIGHT AND LEVEL'),\n",
       " Row(crash_record_id='a31da153b0651037b3526fa7b3bdcc24fc27e7becd385b99e7776cd3b9719cf37d876526d8e10d8397c8623a4786be731633185723b12336ed68dd60d2203898', crash_date=None, posted_speed_limit=None, weather_condition='30', lighting_condition='NO CONTROLS', roadway_surface_cond='NO CONTROLS', crash_type='CLEAR', injuries_total=None, injuries_fatal=None, injuries_incapacitating=None, injuries_non_incapacitating=None, location='STRAIGHT AND LEVEL'),\n",
       " Row(crash_record_id='eb312c9a12f176a4b9fe5cd7e377c06096ba72f0b490117239bf468dd8992bfdef94bb94785dd7262db5550ccd80d7f369e3ddebe5f23087baa636bbe5ace98e', crash_date=None, posted_speed_limit=None, weather_condition='30', lighting_condition='TRAFFIC SIGNAL', roadway_surface_cond='FUNCTIONING PROPERLY', crash_type='FREEZING RAIN/DRIZZLE', injuries_total=None, injuries_fatal=None, injuries_incapacitating=None, injuries_non_incapacitating=None, location='STRAIGHT AND LEVEL'),\n",
       " Row(crash_record_id='d7b37ee510e706d198e3bc241d67555795ee823c6e355b8ce58809c1f4a6b4b4cfafa51d2b0bd7048c172d7a8e2346b55dc8aa483e1ce2c875dc6c9ee344a210', crash_date=None, posted_speed_limit=None, weather_condition='30', lighting_condition='TRAFFIC SIGNAL', roadway_surface_cond='FUNCTIONING PROPERLY', crash_type='CLEAR', injuries_total=None, injuries_fatal=None, injuries_incapacitating=None, injuries_non_incapacitating=None, location='STRAIGHT AND LEVEL'),\n",
       " Row(crash_record_id='38c533ec011bd52891592f160d40ed049cf5d39bbbb59824020eb9eb8bdd4c9dab11c088a1c48a97868fdc8fed2e3cbdd603ff9c57e95eec82cf48e84b2d5a7e', crash_date=None, posted_speed_limit=None, weather_condition='25', lighting_condition='UNKNOWN', roadway_surface_cond='UNKNOWN', crash_type='CLEAR', injuries_total=None, injuries_fatal=None, injuries_incapacitating=None, injuries_non_incapacitating=None, location='STRAIGHT AND LEVEL'),\n",
       " Row(crash_record_id='4501f47286acbf381d65edc0e587022bad681de964761070ec3faab91fa39ce832e77845c5421ed98e837e3f2ce87179f75ee95a71a40ff07657245d6b9859f7', crash_date=None, posted_speed_limit=None, weather_condition='30', lighting_condition='NO CONTROLS', roadway_surface_cond='NO CONTROLS', crash_type='CLEAR', injuries_total=None, injuries_fatal=None, injuries_incapacitating=None, injuries_non_incapacitating=None, location='STRAIGHT AND LEVEL')]"
      ]
     },
     "execution_count": 34,
     "metadata": {},
     "output_type": "execute_result"
    }
   ],
   "source": [
    "df.head(10)"
   ]
  },
  {
   "cell_type": "code",
   "execution_count": 35,
   "id": "28908b7d-bb16-45fa-9dcb-65dfbfceefd9",
   "metadata": {},
   "outputs": [],
   "source": [
    "df = pd.read_csv(\"traffic_crashes.csv\")"
   ]
  },
  {
   "cell_type": "code",
   "execution_count": 36,
   "id": "c81badb8-7c51-4fdf-be8d-6978c50fe230",
   "metadata": {},
   "outputs": [],
   "source": [
    "df=df[columns_order]"
   ]
  },
  {
   "cell_type": "code",
   "execution_count": 37,
   "id": "7a04675a-ce35-4e9e-95ea-11afe6705a2e",
   "metadata": {},
   "outputs": [
    {
     "data": {
      "text/html": [
       "<div>\n",
       "<style scoped>\n",
       "    .dataframe tbody tr th:only-of-type {\n",
       "        vertical-align: middle;\n",
       "    }\n",
       "\n",
       "    .dataframe tbody tr th {\n",
       "        vertical-align: top;\n",
       "    }\n",
       "\n",
       "    .dataframe thead th {\n",
       "        text-align: right;\n",
       "    }\n",
       "</style>\n",
       "<table border=\"1\" class=\"dataframe\">\n",
       "  <thead>\n",
       "    <tr style=\"text-align: right;\">\n",
       "      <th></th>\n",
       "      <th>crash_record_id</th>\n",
       "      <th>crash_date</th>\n",
       "      <th>posted_speed_limit</th>\n",
       "      <th>weather_condition</th>\n",
       "      <th>lighting_condition</th>\n",
       "      <th>roadway_surface_cond</th>\n",
       "      <th>crash_type</th>\n",
       "      <th>injuries_total</th>\n",
       "      <th>injuries_fatal</th>\n",
       "      <th>injuries_incapacitating</th>\n",
       "      <th>injuries_non_incapacitating</th>\n",
       "      <th>location</th>\n",
       "    </tr>\n",
       "  </thead>\n",
       "  <tbody>\n",
       "    <tr>\n",
       "      <th>0</th>\n",
       "      <td>1d7194468e8032e460bfcb3d5579fedd6ba4fd8bc341ef...</td>\n",
       "      <td>2025-02-25T00:08:00.000</td>\n",
       "      <td>25</td>\n",
       "      <td>RAIN</td>\n",
       "      <td>DARKNESS, LIGHTED ROAD</td>\n",
       "      <td>WET</td>\n",
       "      <td>INJURY AND / OR TOW DUE TO CRASH</td>\n",
       "      <td>1.0</td>\n",
       "      <td>0.0</td>\n",
       "      <td>0.0</td>\n",
       "      <td>0.0</td>\n",
       "      <td>POINT (-87.633836838333 41.876694155636)</td>\n",
       "    </tr>\n",
       "    <tr>\n",
       "      <th>1</th>\n",
       "      <td>d052147931cd03801368e87bc8dcf6cb042d97038e1807...</td>\n",
       "      <td>2025-02-24T23:24:00.000</td>\n",
       "      <td>30</td>\n",
       "      <td>UNKNOWN</td>\n",
       "      <td>DARKNESS, LIGHTED ROAD</td>\n",
       "      <td>UNKNOWN</td>\n",
       "      <td>INJURY AND / OR TOW DUE TO CRASH</td>\n",
       "      <td>0.0</td>\n",
       "      <td>0.0</td>\n",
       "      <td>0.0</td>\n",
       "      <td>0.0</td>\n",
       "      <td>POINT (-87.695867514328 41.782614835919)</td>\n",
       "    </tr>\n",
       "    <tr>\n",
       "      <th>2</th>\n",
       "      <td>0f2e51017e5a04c1cc1c24b540f0bd13601df5ce9fa03a...</td>\n",
       "      <td>2025-02-24T23:00:00.000</td>\n",
       "      <td>45</td>\n",
       "      <td>RAIN</td>\n",
       "      <td>DARKNESS, LIGHTED ROAD</td>\n",
       "      <td>WET</td>\n",
       "      <td>INJURY AND / OR TOW DUE TO CRASH</td>\n",
       "      <td>0.0</td>\n",
       "      <td>0.0</td>\n",
       "      <td>0.0</td>\n",
       "      <td>0.0</td>\n",
       "      <td>POINT (-87.62423499978 41.900752974042)</td>\n",
       "    </tr>\n",
       "    <tr>\n",
       "      <th>3</th>\n",
       "      <td>445aa1a428c2690d4db388be479127a23b4cc5eba11940...</td>\n",
       "      <td>2025-02-24T21:56:00.000</td>\n",
       "      <td>30</td>\n",
       "      <td>CLEAR</td>\n",
       "      <td>DARKNESS, LIGHTED ROAD</td>\n",
       "      <td>DRY</td>\n",
       "      <td>NO INJURY / DRIVE AWAY</td>\n",
       "      <td>0.0</td>\n",
       "      <td>0.0</td>\n",
       "      <td>0.0</td>\n",
       "      <td>0.0</td>\n",
       "      <td>POINT (-87.625427084647 41.779948151941)</td>\n",
       "    </tr>\n",
       "    <tr>\n",
       "      <th>4</th>\n",
       "      <td>184edfee55da7fc3a365774382c0df56c47e85855531f8...</td>\n",
       "      <td>2025-02-24T21:32:00.000</td>\n",
       "      <td>30</td>\n",
       "      <td>RAIN</td>\n",
       "      <td>DARKNESS, LIGHTED ROAD</td>\n",
       "      <td>WET</td>\n",
       "      <td>INJURY AND / OR TOW DUE TO CRASH</td>\n",
       "      <td>1.0</td>\n",
       "      <td>0.0</td>\n",
       "      <td>0.0</td>\n",
       "      <td>1.0</td>\n",
       "      <td>POINT (-87.634428550638 41.900652583173)</td>\n",
       "    </tr>\n",
       "    <tr>\n",
       "      <th>...</th>\n",
       "      <td>...</td>\n",
       "      <td>...</td>\n",
       "      <td>...</td>\n",
       "      <td>...</td>\n",
       "      <td>...</td>\n",
       "      <td>...</td>\n",
       "      <td>...</td>\n",
       "      <td>...</td>\n",
       "      <td>...</td>\n",
       "      <td>...</td>\n",
       "      <td>...</td>\n",
       "      <td>...</td>\n",
       "    </tr>\n",
       "    <tr>\n",
       "      <th>995</th>\n",
       "      <td>98fcf070c385b01b58b8169a97b59d1bfea4c3aec89aa4...</td>\n",
       "      <td>2025-02-20T16:24:00.000</td>\n",
       "      <td>30</td>\n",
       "      <td>CLEAR</td>\n",
       "      <td>DAYLIGHT</td>\n",
       "      <td>DRY</td>\n",
       "      <td>INJURY AND / OR TOW DUE TO CRASH</td>\n",
       "      <td>1.0</td>\n",
       "      <td>0.0</td>\n",
       "      <td>0.0</td>\n",
       "      <td>0.0</td>\n",
       "      <td>POINT (-87.664953598184 41.808494924755)</td>\n",
       "    </tr>\n",
       "    <tr>\n",
       "      <th>996</th>\n",
       "      <td>91f6798f625c10bc6b7a75186d2822395f507c7d5d779a...</td>\n",
       "      <td>2025-02-20T16:20:00.000</td>\n",
       "      <td>20</td>\n",
       "      <td>CLEAR</td>\n",
       "      <td>DAYLIGHT</td>\n",
       "      <td>DRY</td>\n",
       "      <td>NO INJURY / DRIVE AWAY</td>\n",
       "      <td>0.0</td>\n",
       "      <td>0.0</td>\n",
       "      <td>0.0</td>\n",
       "      <td>0.0</td>\n",
       "      <td>POINT (-87.629162766579 41.884591854969)</td>\n",
       "    </tr>\n",
       "    <tr>\n",
       "      <th>997</th>\n",
       "      <td>c023710509d9e7e793df805b51c0ab709e5569e60a79ef...</td>\n",
       "      <td>2025-02-20T16:20:00.000</td>\n",
       "      <td>30</td>\n",
       "      <td>CLEAR</td>\n",
       "      <td>DAYLIGHT</td>\n",
       "      <td>DRY</td>\n",
       "      <td>INJURY AND / OR TOW DUE TO CRASH</td>\n",
       "      <td>1.0</td>\n",
       "      <td>0.0</td>\n",
       "      <td>0.0</td>\n",
       "      <td>0.0</td>\n",
       "      <td>POINT (-87.664038433009 41.768454909931)</td>\n",
       "    </tr>\n",
       "    <tr>\n",
       "      <th>998</th>\n",
       "      <td>50474a63cfb5d395b53f7737051d1c14120000150fb39b...</td>\n",
       "      <td>2025-02-20T16:17:00.000</td>\n",
       "      <td>40</td>\n",
       "      <td>CLEAR</td>\n",
       "      <td>DAYLIGHT</td>\n",
       "      <td>DRY</td>\n",
       "      <td>INJURY AND / OR TOW DUE TO CRASH</td>\n",
       "      <td>0.0</td>\n",
       "      <td>0.0</td>\n",
       "      <td>0.0</td>\n",
       "      <td>0.0</td>\n",
       "      <td>POINT (-87.57919313842 41.790133242352)</td>\n",
       "    </tr>\n",
       "    <tr>\n",
       "      <th>999</th>\n",
       "      <td>e118e1f4e7fd93a9887440ab71444e80e0017e09c007e1...</td>\n",
       "      <td>2025-02-20T16:12:00.000</td>\n",
       "      <td>30</td>\n",
       "      <td>CLEAR</td>\n",
       "      <td>DAYLIGHT</td>\n",
       "      <td>DRY</td>\n",
       "      <td>INJURY AND / OR TOW DUE TO CRASH</td>\n",
       "      <td>2.0</td>\n",
       "      <td>0.0</td>\n",
       "      <td>0.0</td>\n",
       "      <td>0.0</td>\n",
       "      <td>POINT (-87.618924988271 41.788754957724)</td>\n",
       "    </tr>\n",
       "  </tbody>\n",
       "</table>\n",
       "<p>1000 rows × 12 columns</p>\n",
       "</div>"
      ],
      "text/plain": [
       "                                       crash_record_id  \\\n",
       "0    1d7194468e8032e460bfcb3d5579fedd6ba4fd8bc341ef...   \n",
       "1    d052147931cd03801368e87bc8dcf6cb042d97038e1807...   \n",
       "2    0f2e51017e5a04c1cc1c24b540f0bd13601df5ce9fa03a...   \n",
       "3    445aa1a428c2690d4db388be479127a23b4cc5eba11940...   \n",
       "4    184edfee55da7fc3a365774382c0df56c47e85855531f8...   \n",
       "..                                                 ...   \n",
       "995  98fcf070c385b01b58b8169a97b59d1bfea4c3aec89aa4...   \n",
       "996  91f6798f625c10bc6b7a75186d2822395f507c7d5d779a...   \n",
       "997  c023710509d9e7e793df805b51c0ab709e5569e60a79ef...   \n",
       "998  50474a63cfb5d395b53f7737051d1c14120000150fb39b...   \n",
       "999  e118e1f4e7fd93a9887440ab71444e80e0017e09c007e1...   \n",
       "\n",
       "                  crash_date  posted_speed_limit weather_condition  \\\n",
       "0    2025-02-25T00:08:00.000                  25              RAIN   \n",
       "1    2025-02-24T23:24:00.000                  30           UNKNOWN   \n",
       "2    2025-02-24T23:00:00.000                  45              RAIN   \n",
       "3    2025-02-24T21:56:00.000                  30             CLEAR   \n",
       "4    2025-02-24T21:32:00.000                  30              RAIN   \n",
       "..                       ...                 ...               ...   \n",
       "995  2025-02-20T16:24:00.000                  30             CLEAR   \n",
       "996  2025-02-20T16:20:00.000                  20             CLEAR   \n",
       "997  2025-02-20T16:20:00.000                  30             CLEAR   \n",
       "998  2025-02-20T16:17:00.000                  40             CLEAR   \n",
       "999  2025-02-20T16:12:00.000                  30             CLEAR   \n",
       "\n",
       "         lighting_condition roadway_surface_cond  \\\n",
       "0    DARKNESS, LIGHTED ROAD                  WET   \n",
       "1    DARKNESS, LIGHTED ROAD              UNKNOWN   \n",
       "2    DARKNESS, LIGHTED ROAD                  WET   \n",
       "3    DARKNESS, LIGHTED ROAD                  DRY   \n",
       "4    DARKNESS, LIGHTED ROAD                  WET   \n",
       "..                      ...                  ...   \n",
       "995                DAYLIGHT                  DRY   \n",
       "996                DAYLIGHT                  DRY   \n",
       "997                DAYLIGHT                  DRY   \n",
       "998                DAYLIGHT                  DRY   \n",
       "999                DAYLIGHT                  DRY   \n",
       "\n",
       "                           crash_type  injuries_total  injuries_fatal  \\\n",
       "0    INJURY AND / OR TOW DUE TO CRASH             1.0             0.0   \n",
       "1    INJURY AND / OR TOW DUE TO CRASH             0.0             0.0   \n",
       "2    INJURY AND / OR TOW DUE TO CRASH             0.0             0.0   \n",
       "3              NO INJURY / DRIVE AWAY             0.0             0.0   \n",
       "4    INJURY AND / OR TOW DUE TO CRASH             1.0             0.0   \n",
       "..                                ...             ...             ...   \n",
       "995  INJURY AND / OR TOW DUE TO CRASH             1.0             0.0   \n",
       "996            NO INJURY / DRIVE AWAY             0.0             0.0   \n",
       "997  INJURY AND / OR TOW DUE TO CRASH             1.0             0.0   \n",
       "998  INJURY AND / OR TOW DUE TO CRASH             0.0             0.0   \n",
       "999  INJURY AND / OR TOW DUE TO CRASH             2.0             0.0   \n",
       "\n",
       "     injuries_incapacitating  injuries_non_incapacitating  \\\n",
       "0                        0.0                          0.0   \n",
       "1                        0.0                          0.0   \n",
       "2                        0.0                          0.0   \n",
       "3                        0.0                          0.0   \n",
       "4                        0.0                          1.0   \n",
       "..                       ...                          ...   \n",
       "995                      0.0                          0.0   \n",
       "996                      0.0                          0.0   \n",
       "997                      0.0                          0.0   \n",
       "998                      0.0                          0.0   \n",
       "999                      0.0                          0.0   \n",
       "\n",
       "                                     location  \n",
       "0    POINT (-87.633836838333 41.876694155636)  \n",
       "1    POINT (-87.695867514328 41.782614835919)  \n",
       "2     POINT (-87.62423499978 41.900752974042)  \n",
       "3    POINT (-87.625427084647 41.779948151941)  \n",
       "4    POINT (-87.634428550638 41.900652583173)  \n",
       "..                                        ...  \n",
       "995  POINT (-87.664953598184 41.808494924755)  \n",
       "996  POINT (-87.629162766579 41.884591854969)  \n",
       "997  POINT (-87.664038433009 41.768454909931)  \n",
       "998   POINT (-87.57919313842 41.790133242352)  \n",
       "999  POINT (-87.618924988271 41.788754957724)  \n",
       "\n",
       "[1000 rows x 12 columns]"
      ]
     },
     "execution_count": 37,
     "metadata": {},
     "output_type": "execute_result"
    }
   ],
   "source": [
    "df"
   ]
  },
  {
   "cell_type": "code",
   "execution_count": 38,
   "id": "ad6c7765-b804-4557-8ae7-3bfc9390feea",
   "metadata": {},
   "outputs": [],
   "source": [
    "df.to_csv(\"crashes.csv\", index=False)"
   ]
  },
  {
   "cell_type": "code",
   "execution_count": 73,
   "id": "d699d4f6-8631-4dc0-afb8-bf5d9bb5492a",
   "metadata": {},
   "outputs": [],
   "source": [
    "df = spark.read \\\n",
    "    .option(\"header\", \"true\") \\\n",
    "    .schema(schema) \\\n",
    "    .csv('crashes.csv')"
   ]
  },
  {
   "cell_type": "code",
   "execution_count": 74,
   "id": "2561a854-f335-41df-8893-88893a06dccc",
   "metadata": {},
   "outputs": [
    {
     "data": {
      "text/plain": [
       "DataFrame[crash_record_id: string, crash_date: timestamp, posted_speed_limit: int, weather_condition: string, lighting_condition: string, roadway_surface_cond: string, crash_type: string, injuries_total: int, injuries_fatal: int, injuries_incapacitating: int, injuries_non_incapacitating: int, location: string]"
      ]
     },
     "execution_count": 74,
     "metadata": {},
     "output_type": "execute_result"
    }
   ],
   "source": [
    "df"
   ]
  },
  {
   "cell_type": "code",
   "execution_count": 75,
   "id": "a22775fe-e5ca-46c3-a70b-25f84ac87df8",
   "metadata": {},
   "outputs": [
    {
     "data": {
      "text/plain": [
       "[Row(crash_record_id='1d7194468e8032e460bfcb3d5579fedd6ba4fd8bc341ef98790b7844f742b637a62d4df947eaa9611509e6320da75740bba80b5494cfd8aa32cb854378c228ac', crash_date=datetime.datetime(2025, 2, 25, 0, 8), posted_speed_limit=25, weather_condition='RAIN', lighting_condition='DARKNESS, LIGHTED ROAD', roadway_surface_cond='WET', crash_type='INJURY AND / OR TOW DUE TO CRASH', injuries_total=None, injuries_fatal=None, injuries_incapacitating=None, injuries_non_incapacitating=None, location='POINT (-87.633836838333 41.876694155636)'),\n",
       " Row(crash_record_id='d052147931cd03801368e87bc8dcf6cb042d97038e1807193b091d1473f21b007c7a23aa0c2e62acc557863c7a53932c29c0c622fdd72c67a215d2d51e352237', crash_date=datetime.datetime(2025, 2, 24, 23, 24), posted_speed_limit=30, weather_condition='UNKNOWN', lighting_condition='DARKNESS, LIGHTED ROAD', roadway_surface_cond='UNKNOWN', crash_type='INJURY AND / OR TOW DUE TO CRASH', injuries_total=None, injuries_fatal=None, injuries_incapacitating=None, injuries_non_incapacitating=None, location='POINT (-87.695867514328 41.782614835919)'),\n",
       " Row(crash_record_id='0f2e51017e5a04c1cc1c24b540f0bd13601df5ce9fa03ac0983a3f791c2a2fe5a8f8995d60c16ca00c213c7de9e4835c1be50177427172180d80838fd601b708', crash_date=datetime.datetime(2025, 2, 24, 23, 0), posted_speed_limit=45, weather_condition='RAIN', lighting_condition='DARKNESS, LIGHTED ROAD', roadway_surface_cond='WET', crash_type='INJURY AND / OR TOW DUE TO CRASH', injuries_total=None, injuries_fatal=None, injuries_incapacitating=None, injuries_non_incapacitating=None, location='POINT (-87.62423499978 41.900752974042)'),\n",
       " Row(crash_record_id='445aa1a428c2690d4db388be479127a23b4cc5eba119400bdc7a2a1df00b54cdcf263cb0bd350ad8269bca661679fab18b15fffbfddde32b1aab19f55d7b3fbb', crash_date=datetime.datetime(2025, 2, 24, 21, 56), posted_speed_limit=30, weather_condition='CLEAR', lighting_condition='DARKNESS, LIGHTED ROAD', roadway_surface_cond='DRY', crash_type='NO INJURY / DRIVE AWAY', injuries_total=None, injuries_fatal=None, injuries_incapacitating=None, injuries_non_incapacitating=None, location='POINT (-87.625427084647 41.779948151941)'),\n",
       " Row(crash_record_id='184edfee55da7fc3a365774382c0df56c47e85855531f8d43ef8a2cb8a9f3c4ae585026a29fb7d01f1ab1e3691aa5d12779114d3606109b8c0ff1f11797ed1a6', crash_date=datetime.datetime(2025, 2, 24, 21, 32), posted_speed_limit=30, weather_condition='RAIN', lighting_condition='DARKNESS, LIGHTED ROAD', roadway_surface_cond='WET', crash_type='INJURY AND / OR TOW DUE TO CRASH', injuries_total=None, injuries_fatal=None, injuries_incapacitating=None, injuries_non_incapacitating=None, location='POINT (-87.634428550638 41.900652583173)'),\n",
       " Row(crash_record_id='a31da153b0651037b3526fa7b3bdcc24fc27e7becd385b99e7776cd3b9719cf37d876526d8e10d8397c8623a4786be731633185723b12336ed68dd60d2203898', crash_date=datetime.datetime(2025, 2, 24, 21, 24), posted_speed_limit=30, weather_condition='CLEAR', lighting_condition='DARKNESS, LIGHTED ROAD', roadway_surface_cond='DRY', crash_type='INJURY AND / OR TOW DUE TO CRASH', injuries_total=None, injuries_fatal=None, injuries_incapacitating=None, injuries_non_incapacitating=None, location='POINT (-87.698747419727 41.917527100967)'),\n",
       " Row(crash_record_id='eb312c9a12f176a4b9fe5cd7e377c06096ba72f0b490117239bf468dd8992bfdef94bb94785dd7262db5550ccd80d7f369e3ddebe5f23087baa636bbe5ace98e', crash_date=datetime.datetime(2025, 2, 24, 21, 8), posted_speed_limit=30, weather_condition='FREEZING RAIN/DRIZZLE', lighting_condition='DARKNESS, LIGHTED ROAD', roadway_surface_cond='WET', crash_type='INJURY AND / OR TOW DUE TO CRASH', injuries_total=None, injuries_fatal=None, injuries_incapacitating=None, injuries_non_incapacitating=None, location='POINT (-87.635544642244 41.896696306898)'),\n",
       " Row(crash_record_id='d7b37ee510e706d198e3bc241d67555795ee823c6e355b8ce58809c1f4a6b4b4cfafa51d2b0bd7048c172d7a8e2346b55dc8aa483e1ce2c875dc6c9ee344a210', crash_date=datetime.datetime(2025, 2, 24, 20, 58), posted_speed_limit=30, weather_condition='CLEAR', lighting_condition='DARKNESS, LIGHTED ROAD', roadway_surface_cond='OTHER', crash_type='NO INJURY / DRIVE AWAY', injuries_total=None, injuries_fatal=None, injuries_incapacitating=None, injuries_non_incapacitating=None, location='POINT (-87.644228064459 41.880495931362)'),\n",
       " Row(crash_record_id='38c533ec011bd52891592f160d40ed049cf5d39bbbb59824020eb9eb8bdd4c9dab11c088a1c48a97868fdc8fed2e3cbdd603ff9c57e95eec82cf48e84b2d5a7e', crash_date=datetime.datetime(2025, 2, 24, 20, 30), posted_speed_limit=25, weather_condition='CLEAR', lighting_condition='DARKNESS, LIGHTED ROAD', roadway_surface_cond='WET', crash_type='NO INJURY / DRIVE AWAY', injuries_total=None, injuries_fatal=None, injuries_incapacitating=None, injuries_non_incapacitating=None, location='POINT (-87.668165707455 41.975240706547)'),\n",
       " Row(crash_record_id='4501f47286acbf381d65edc0e587022bad681de964761070ec3faab91fa39ce832e77845c5421ed98e837e3f2ce87179f75ee95a71a40ff07657245d6b9859f7', crash_date=datetime.datetime(2025, 2, 24, 20, 10), posted_speed_limit=30, weather_condition='CLEAR', lighting_condition='DUSK', roadway_surface_cond='DRY', crash_type='NO INJURY / DRIVE AWAY', injuries_total=None, injuries_fatal=None, injuries_incapacitating=None, injuries_non_incapacitating=None, location='POINT (-87.62152056434 41.764528930983)')]"
      ]
     },
     "execution_count": 75,
     "metadata": {},
     "output_type": "execute_result"
    }
   ],
   "source": [
    "df.head(10)"
   ]
  },
  {
   "cell_type": "code",
   "execution_count": 76,
   "id": "b7080869-0e0e-4aba-8297-302cfadc1e2b",
   "metadata": {},
   "outputs": [],
   "source": [
    "df=df.repartition(24)"
   ]
  },
  {
   "cell_type": "code",
   "execution_count": 77,
   "id": "89725326-ce2a-41f6-893b-5e3765aa41c9",
   "metadata": {},
   "outputs": [
    {
     "name": "stderr",
     "output_type": "stream",
     "text": [
      "                                                                                \r"
     ]
    }
   ],
   "source": [
    "df.write.parquet('crashes02/25', 'overwrite')"
   ]
  },
  {
   "cell_type": "code",
   "execution_count": 66,
   "id": "20025b81-0776-47aa-b81a-e3c4aa8aa53d",
   "metadata": {},
   "outputs": [
    {
     "name": "stdout",
     "output_type": "stream",
     "text": [
      "http://de-zoomcamp.us-central1-c.c.shareprompt-412612.internal:4044\n"
     ]
    }
   ],
   "source": [
    "print(spark.sparkContext.uiWebUrl)\n"
   ]
  },
  {
   "cell_type": "code",
   "execution_count": 78,
   "id": "f1bd8abb-1397-494e-ac65-5a6ec5b72689",
   "metadata": {},
   "outputs": [],
   "source": [
    "df= spark.read.parquet('crashes02/25')"
   ]
  },
  {
   "cell_type": "code",
   "execution_count": 68,
   "id": "34063842-0b83-4563-83ce-d27e327e7439",
   "metadata": {},
   "outputs": [
    {
     "data": {
      "text/plain": [
       "DataFrame[crash_record_id: string, crash_date: timestamp, posted_speed_limit: int, weather_condition: string, lighting_condition: string, roadway_surface_cond: string, crash_type: string, injuries_total: int, injuries_fatal: int, injuries_incapacitating: int, injuries_non_incapacitating: int, location: string]"
      ]
     },
     "execution_count": 68,
     "metadata": {},
     "output_type": "execute_result"
    }
   ],
   "source": [
    "df"
   ]
  },
  {
   "cell_type": "code",
   "execution_count": 79,
   "id": "bc06f287-a3fa-4c0e-9176-4f7b06d7f8bc",
   "metadata": {},
   "outputs": [
    {
     "name": "stdout",
     "output_type": "stream",
     "text": [
      "root\n",
      " |-- crash_record_id: string (nullable = true)\n",
      " |-- crash_date: timestamp (nullable = true)\n",
      " |-- posted_speed_limit: integer (nullable = true)\n",
      " |-- weather_condition: string (nullable = true)\n",
      " |-- lighting_condition: string (nullable = true)\n",
      " |-- roadway_surface_cond: string (nullable = true)\n",
      " |-- crash_type: string (nullable = true)\n",
      " |-- injuries_total: integer (nullable = true)\n",
      " |-- injuries_fatal: integer (nullable = true)\n",
      " |-- injuries_incapacitating: integer (nullable = true)\n",
      " |-- injuries_non_incapacitating: integer (nullable = true)\n",
      " |-- location: string (nullable = true)\n",
      "\n"
     ]
    }
   ],
   "source": [
    "df.printSchema()"
   ]
  },
  {
   "cell_type": "code",
   "execution_count": 80,
   "id": "40455d13-cb41-443f-95ac-0b18d14d9b1f",
   "metadata": {},
   "outputs": [
    {
     "name": "stdout",
     "output_type": "stream",
     "text": [
      "crash_record_id,crash_date,posted_speed_limit,weather_condition,lighting_condition,roadway_surface_cond,crash_type,injuries_total,injuries_fatal,injuries_incapacitating,injuries_non_incapacitating,location\n",
      "1d7194468e8032e460bfcb3d5579fedd6ba4fd8bc341ef98790b7844f742b637a62d4df947eaa9611509e6320da75740bba80b5494cfd8aa32cb854378c228ac,2025-02-25T00:08:00.000,25,RAIN,\"DARKNESS, LIGHTED ROAD\",WET,INJURY AND / OR TOW DUE TO CRASH,1.0,0.0,0.0,0.0,POINT (-87.633836838333 41.876694155636)\n",
      "d052147931cd03801368e87bc8dcf6cb042d97038e1807193b091d1473f21b007c7a23aa0c2e62acc557863c7a53932c29c0c622fdd72c67a215d2d51e352237,2025-02-24T23:24:00.000,30,UNKNOWN,\"DARKNESS, LIGHTED ROAD\",UNKNOWN,INJURY AND / OR TOW DUE TO CRASH,0.0,0.0,0.0,0.0,POINT (-87.695867514328 41.782614835919)\n",
      "0f2e51017e5a04c1cc1c24b540f0bd13601df5ce9fa03ac0983a3f791c2a2fe5a8f8995d60c16ca00c213c7de9e4835c1be50177427172180d80838fd601b708,2025-02-24T23:00:00.000,45,RAIN,\"DARKNESS, LIGHTED ROAD\",WET,INJURY AND / OR TOW DUE TO CRASH,0.0,0.0,0.0,0.0,POINT (-87.62423499978 41.900752974042)\n",
      "445aa1a428c2690d4db388be479127a23b4cc5eba119400bdc7a2a1df00b54cdcf263cb0bd350ad8269bca661679fab18b15fffbfddde32b1aab19f55d7b3fbb,2025-02-24T21:56:00.000,30,CLEAR,\"DARKNESS, LIGHTED ROAD\",DRY,NO INJURY / DRIVE AWAY,0.0,0.0,0.0,0.0,POINT (-87.625427084647 41.779948151941)\n"
     ]
    }
   ],
   "source": [
    "!head -n 5 crashes.csv"
   ]
  },
  {
   "cell_type": "code",
   "execution_count": 87,
   "id": "7bbc9d09-f849-4f5d-a701-c5a049ece27a",
   "metadata": {},
   "outputs": [
    {
     "name": "stdout",
     "output_type": "stream",
     "text": [
      "+--------------------+-------------------+------------------+-----------------+--------------------+--------------+\n",
      "|     crash_record_id|         crash_date|posted_speed_limit|weather_condition|roadway_surface_cond|injuries_total|\n",
      "+--------------------+-------------------+------------------+-----------------+--------------------+--------------+\n",
      "|c720159e41d845f51...|2025-02-21 10:40:00|                30|             SNOW|       SNOW OR SLUSH|          NULL|\n",
      "|926b17630e653683c...|2025-02-23 10:30:00|                30|             SNOW|                 DRY|          NULL|\n",
      "|2de1fe42a165959e2...|2025-02-22 08:04:00|                30|             SNOW|       SNOW OR SLUSH|          NULL|\n",
      "|feaa644bc18799da0...|2025-02-21 01:41:00|                20|             SNOW|                 ICE|          NULL|\n",
      "|9a61445a73f7a4b71...|2025-02-23 10:35:00|                25|             SNOW|       SNOW OR SLUSH|          NULL|\n",
      "|12ff1711fb0537cb1...|2025-02-21 01:41:00|                20|             SNOW|                 ICE|          NULL|\n",
      "|49869d2ba6a82e6a1...|2025-02-20 18:00:00|                20|             SNOW|       SNOW OR SLUSH|          NULL|\n",
      "|15fa2f5bc09b4dbf8...|2025-02-20 18:30:00|                35|             SNOW|             UNKNOWN|          NULL|\n",
      "|545f9188137dcbfc4...|2025-02-23 00:00:00|                30|             SNOW|       SNOW OR SLUSH|          NULL|\n",
      "|dde9ee3965a41febb...|2025-02-22 01:19:00|                20|             SNOW|       SNOW OR SLUSH|          NULL|\n",
      "|fa18b2cbf81477e60...|2025-02-21 10:30:00|                30|             SNOW|       SNOW OR SLUSH|          NULL|\n",
      "+--------------------+-------------------+------------------+-----------------+--------------------+--------------+\n",
      "\n"
     ]
    }
   ],
   "source": [
    "df.select('crash_record_id' , 'crash_date' , 'posted_speed_limit', 'weather_condition' ,  'roadway_surface_cond','injuries_total') \\\n",
    "    .filter(df.weather_condition == 'SNOW').show()"
   ]
  },
  {
   "cell_type": "code",
   "execution_count": 88,
   "id": "428cc465-f91f-42e9-aa2d-0dcf68ff9cf6",
   "metadata": {},
   "outputs": [],
   "source": [
    "from pyspark.sql import functions as F"
   ]
  },
  {
   "cell_type": "code",
   "execution_count": 94,
   "id": "001cd478-7596-447a-834e-9554fe4301c4",
   "metadata": {},
   "outputs": [
    {
     "name": "stdout",
     "output_type": "stream",
     "text": [
      "+-------------+\n",
      "|accident_date|\n",
      "+-------------+\n",
      "|   2025-02-24|\n",
      "|   2025-02-20|\n",
      "|   2025-02-21|\n",
      "|   2025-02-21|\n",
      "|   2025-02-23|\n",
      "|   2025-02-21|\n",
      "|   2025-02-23|\n",
      "|   2025-02-23|\n",
      "|   2025-02-21|\n",
      "|   2025-02-22|\n",
      "|   2025-02-22|\n",
      "|   2025-02-24|\n",
      "|   2025-02-23|\n",
      "|   2025-02-22|\n",
      "|   2025-02-23|\n",
      "|   2025-02-24|\n",
      "|   2025-02-20|\n",
      "|   2025-02-23|\n",
      "|   2025-02-23|\n",
      "|   2025-02-24|\n",
      "+-------------+\n",
      "only showing top 20 rows\n",
      "\n"
     ]
    }
   ],
   "source": [
    "df.withColumn('accident_date', F.to_date(df.crash_date)).select('accident_date').show()"
   ]
  },
  {
   "cell_type": "code",
   "execution_count": 92,
   "id": "a261218c-6be0-4803-b758-e7c681a5cdbe",
   "metadata": {},
   "outputs": [
    {
     "name": "stdout",
     "output_type": "stream",
     "text": [
      "+--------------------+-------------------+------------------+-----------------+--------------------+--------------------+--------------------+--------------+--------------+-----------------------+---------------------------+--------------------+\n",
      "|     crash_record_id|         crash_date|posted_speed_limit|weather_condition|  lighting_condition|roadway_surface_cond|          crash_type|injuries_total|injuries_fatal|injuries_incapacitating|injuries_non_incapacitating|            location|\n",
      "+--------------------+-------------------+------------------+-----------------+--------------------+--------------------+--------------------+--------------+--------------+-----------------------+---------------------------+--------------------+\n",
      "|a37b058df389a8ffe...|2025-02-24 16:45:00|                30|            CLEAR|            DAYLIGHT|                 DRY|NO INJURY / DRIVE...|          NULL|          NULL|                   NULL|                       NULL|POINT (-87.687529...|\n",
      "|76a186eccf1b7dc71...|2025-02-20 19:40:00|                30|            CLEAR|DARKNESS, LIGHTED...|                 DRY|NO INJURY / DRIVE...|          NULL|          NULL|                   NULL|                       NULL|POINT (-87.645347...|\n",
      "|7269271eef09d9eb9...|2025-02-21 06:40:00|                30|            CLEAR|            DAYLIGHT|                 DRY|NO INJURY / DRIVE...|          NULL|          NULL|                   NULL|                       NULL|POINT (-87.783345...|\n",
      "|6e6aaf54b73652e28...|2025-02-21 13:06:00|                25|            CLEAR|            DAYLIGHT|                 DRY|INJURY AND / OR T...|          NULL|          NULL|                   NULL|                       NULL|POINT (-87.733531...|\n",
      "|dc44a4d84f85d3cbd...|2025-02-23 15:00:00|                30|            CLEAR|             UNKNOWN|                 DRY|NO INJURY / DRIVE...|          NULL|          NULL|                   NULL|                       NULL|POINT (-87.694690...|\n",
      "|ad614f1e5d66566ae...|2025-02-21 12:00:00|                30|            CLEAR|            DAYLIGHT|                 DRY|NO INJURY / DRIVE...|          NULL|          NULL|                   NULL|                       NULL|POINT (-87.723672...|\n",
      "|a3f6de17650cd40a9...|2025-02-23 10:40:00|                30|            CLEAR|            DAYLIGHT|                 DRY|INJURY AND / OR T...|          NULL|          NULL|                   NULL|                       NULL|POINT (-87.616684...|\n",
      "|d129d8d5541bd76d1...|2025-02-23 16:25:00|                30|            CLEAR|            DAYLIGHT|                 DRY|NO INJURY / DRIVE...|          NULL|          NULL|                   NULL|                       NULL|POINT (-87.684168...|\n",
      "|e8f1d87b6c794cf8a...|2025-02-21 21:30:00|                30|            CLEAR|                DUSK|                 DRY|NO INJURY / DRIVE...|          NULL|          NULL|                   NULL|                       NULL|POINT (-87.621840...|\n",
      "|c1e97537b3655a97e...|2025-02-22 23:50:00|                25|            CLEAR|                DAWN|                 ICE|INJURY AND / OR T...|          NULL|          NULL|                   NULL|                       NULL|POINT (-87.647859...|\n",
      "|024f34d674ae19281...|2025-02-22 08:35:00|                30|            CLEAR|            DAYLIGHT|                 DRY|NO INJURY / DRIVE...|          NULL|          NULL|                   NULL|                       NULL|POINT (-87.619853...|\n",
      "|1f8554963b6b5abfa...|2025-02-24 13:48:00|                10|            CLEAR|            DAYLIGHT|                 DRY|NO INJURY / DRIVE...|          NULL|          NULL|                   NULL|                       NULL|POINT (-87.793311...|\n",
      "|3536a68cb5eb210a6...|2025-02-23 17:49:00|                30|            CLEAR|                DAWN|                 DRY|NO INJURY / DRIVE...|          NULL|          NULL|                   NULL|                       NULL|POINT (-87.672752...|\n",
      "|6619ace61f6d88e35...|2025-02-22 00:10:00|                30|            CLEAR|DARKNESS, LIGHTED...|                 DRY|INJURY AND / OR T...|          NULL|          NULL|                   NULL|                       NULL|POINT (-87.585636...|\n",
      "|b24e46474f39bae59...|2025-02-23 11:30:00|                30|            CLEAR|            DAYLIGHT|                 DRY|NO INJURY / DRIVE...|          NULL|          NULL|                   NULL|                       NULL|POINT (-87.634300...|\n",
      "|1d8ebcda0427fc2fa...|2025-02-24 18:00:00|                30|            CLEAR|DARKNESS, LIGHTED...|                 DRY|INJURY AND / OR T...|          NULL|          NULL|                   NULL|                       NULL|POINT (-87.622637...|\n",
      "|15410d237cc941d62...|2025-02-20 17:27:00|                30|            CLEAR|            DAYLIGHT|             UNKNOWN|NO INJURY / DRIVE...|          NULL|          NULL|                   NULL|                       NULL|POINT (-87.765272...|\n",
      "|22806e73e5969d961...|2025-02-23 03:54:00|                25|            CLEAR|DARKNESS, LIGHTED...|                 DRY|INJURY AND / OR T...|          NULL|          NULL|                   NULL|                       NULL|POINT (-87.563384...|\n",
      "|e518eea089e3878a5...|2025-02-23 15:30:00|                30|  CLOUDY/OVERCAST|            DAYLIGHT|                 DRY|NO INJURY / DRIVE...|          NULL|          NULL|                   NULL|                       NULL|POINT (-87.643649...|\n",
      "|9e1eb8310b0bc8172...|2025-02-24 15:53:00|                30|            CLEAR|            DAYLIGHT|                 DRY|INJURY AND / OR T...|          NULL|          NULL|                   NULL|                       NULL|POINT (-87.653009...|\n",
      "+--------------------+-------------------+------------------+-----------------+--------------------+--------------------+--------------------+--------------+--------------+-----------------------+---------------------------+--------------------+\n",
      "only showing top 20 rows\n",
      "\n"
     ]
    }
   ],
   "source": [
    "df.show()\n"
   ]
  },
  {
   "cell_type": "code",
   "execution_count": null,
   "id": "e214a46f-0e24-4ec8-9e31-cdbd10c26df4",
   "metadata": {},
   "outputs": [],
   "source": []
  }
 ],
 "metadata": {
  "kernelspec": {
   "display_name": "Python 3 (ipykernel)",
   "language": "python",
   "name": "python3"
  },
  "language_info": {
   "codemirror_mode": {
    "name": "ipython",
    "version": 3
   },
   "file_extension": ".py",
   "mimetype": "text/x-python",
   "name": "python",
   "nbconvert_exporter": "python",
   "pygments_lexer": "ipython3",
   "version": "3.12.2"
  }
 },
 "nbformat": 4,
 "nbformat_minor": 5
}
