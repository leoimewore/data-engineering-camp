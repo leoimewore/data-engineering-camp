{
 "cells": [
  {
   "cell_type": "code",
   "execution_count": 1,
   "id": "e935ac9e-d9f8-4199-bfe1-9c91d81e2c8b",
   "metadata": {},
   "outputs": [],
   "source": [
    "import pyspark\n",
    "from pyspark.sql import SparkSession \n",
    "from pyspark.sql.functions import col\n",
    "from pyspark.sql import types"
   ]
  },
  {
   "cell_type": "code",
   "execution_count": 2,
   "id": "2a445f90-340b-4078-95b7-482cf2b71664",
   "metadata": {},
   "outputs": [
    {
     "name": "stderr",
     "output_type": "stream",
     "text": [
      "Setting default log level to \"WARN\".\n",
      "To adjust logging level use sc.setLogLevel(newLevel). For SparkR, use setLogLevel(newLevel).\n",
      "25/03/01 15:15:02 WARN NativeCodeLoader: Unable to load native-hadoop library for your platform... using builtin-java classes where applicable\n",
      "25/03/01 15:15:03 WARN Utils: Service 'SparkUI' could not bind on port 4040. Attempting port 4041.\n"
     ]
    }
   ],
   "source": [
    "spark = SparkSession.builder \\\n",
    "    .master(\"spark://de-zoomcamp.us-central1-c.c.shareprompt-412612.internal:7077\") \\\n",
    "    .appName('test') \\\n",
    "    .getOrCreate()"
   ]
  },
  {
   "cell_type": "code",
   "execution_count": 3,
   "id": "0f0848d0-1a47-4ab2-8b37-171edc74acdd",
   "metadata": {},
   "outputs": [
    {
     "name": "stdout",
     "output_type": "stream",
     "text": [
      "http://de-zoomcamp.us-central1-c.c.shareprompt-412612.internal:4041\n"
     ]
    },
    {
     "name": "stderr",
     "output_type": "stream",
     "text": [
      "25/03/01 15:15:15 WARN GarbageCollectionMetrics: To enable non-built-in garbage collector(s) List(G1 Concurrent GC), users should configure it(them) to spark.eventLog.gcMetrics.youngGenerationGarbageCollectors or spark.eventLog.gcMetrics.oldGenerationGarbageCollectors\n"
     ]
    }
   ],
   "source": [
    "print(spark.sparkContext.uiWebUrl)\n"
   ]
  },
  {
   "cell_type": "code",
   "execution_count": null,
   "id": "8e663c81-8626-4163-adad-33285a9227ad",
   "metadata": {},
   "outputs": [
    {
     "name": "stderr",
     "output_type": "stream",
     "text": [
      "25/03/01 15:15:38 WARN TaskSchedulerImpl: Initial job has not accepted any resources; check your cluster UI to ensure that workers are registered and have sufficient resources\n",
      "25/03/01 15:15:53 WARN TaskSchedulerImpl: Initial job has not accepted any resources; check your cluster UI to ensure that workers are registered and have sufficient resources\n"
     ]
    }
   ],
   "source": [
    "df_green = spark.read.parquet(\"data/raw/green/*/*\")"
   ]
  },
  {
   "cell_type": "code",
   "execution_count": null,
   "id": "98a8053f-9263-4a61-89df-ed3589f4e4d2",
   "metadata": {},
   "outputs": [],
   "source": [
    "df_green.show()"
   ]
  },
  {
   "cell_type": "code",
   "execution_count": null,
   "id": "e5df6c32-614d-466f-aa2c-2b603d5f85c7",
   "metadata": {},
   "outputs": [],
   "source": [
    "\n",
    "df_green = df_green.withColumn(\"VendorID\", col(\"VendorID\").cast(\"int\"))"
   ]
  },
  {
   "cell_type": "code",
   "execution_count": null,
   "id": "26392b69-43f4-4267-96ec-57fe189dfb93",
   "metadata": {},
   "outputs": [],
   "source": [
    "df_green.printSchema()\n",
    "df_green.show()"
   ]
  },
  {
   "cell_type": "code",
   "execution_count": null,
   "id": "a79ae731-7547-4263-8cc7-0d79b08bfc84",
   "metadata": {},
   "outputs": [],
   "source": [
    "yellow_schema = yellow_schema = types.StructType([\n",
    "    types.StructField(\"VendorID\", types.StringType(), True),\n",
    "    types.StructField(\"tpep_pickup_datetime\", types.TimestampType(), True),\n",
    "    types.StructField(\"tpep_dropoff_datetime\", types.TimestampType(), True),\n",
    "    types.StructField(\"passenger_count\", types.IntegerType(), True),\n",
    "    types.StructField(\"trip_distance\", types.DoubleType(), True),\n",
    "    types.StructField(\"RatecodeID\", types.IntegerType(), True),\n",
    "    types.StructField(\"store_and_fwd_flag\", types.StringType(), True),\n",
    "    types.StructField(\"PULocationID\", types.IntegerType(), True),\n",
    "    types.StructField(\"DOLocationID\", types.IntegerType(), True),\n",
    "    types.StructField(\"payment_type\", types.IntegerType(), True),\n",
    "    types.StructField(\"fare_amount\", types.DoubleType(), True),\n",
    "    types.StructField(\"extra\", types.DoubleType(), True),\n",
    "    types.StructField(\"mta_tax\", types.DoubleType(), True),\n",
    "    types.StructField(\"tip_amount\", types.DoubleType(), True),\n",
    "    types.StructField(\"tolls_amount\", types.DoubleType(), True),\n",
    "    types.StructField(\"improvement_surcharge\", types.DoubleType(), True),\n",
    "    types.StructField(\"total_amount\", types.DoubleType(), True),\n",
    "    types.StructField(\"congestion_surcharge\", types.DoubleType(), True)\n",
    "])"
   ]
  },
  {
   "cell_type": "code",
   "execution_count": null,
   "id": "37f02283-7870-4c59-a885-d4f15dc79b06",
   "metadata": {},
   "outputs": [],
   "source": [
    "df_yellow = spark.read.parquet(\"data/raw/yellow/*/*\")"
   ]
  },
  {
   "cell_type": "code",
   "execution_count": null,
   "id": "48ff937e-f7f6-40e1-bf76-b0eeca7d62f0",
   "metadata": {},
   "outputs": [],
   "source": [
    "df_yellow.show()"
   ]
  },
  {
   "cell_type": "code",
   "execution_count": null,
   "id": "cd3f29b8-df8e-44b5-a533-ba27c1c15492",
   "metadata": {},
   "outputs": [],
   "source": [
    "df_yellow = df_yellow.withColumn(\"VendorID\", col(\"VendorID\").cast(\"int\"))"
   ]
  },
  {
   "cell_type": "code",
   "execution_count": null,
   "id": "7f2d462e-6529-49ce-9148-4dd668c601ae",
   "metadata": {},
   "outputs": [],
   "source": [
    "df_yellow.columns"
   ]
  },
  {
   "cell_type": "code",
   "execution_count": null,
   "id": "70272a90-6b12-4788-bb67-35be2e07e0a3",
   "metadata": {},
   "outputs": [],
   "source": [
    "set(df_yellow.columns) & set(df_green.columns)"
   ]
  },
  {
   "cell_type": "code",
   "execution_count": null,
   "id": "64d5d7ac-11e7-4576-8666-da928add2785",
   "metadata": {},
   "outputs": [],
   "source": [
    "df_green=df_green \\\n",
    "    .withColumnRenamed('lpep_pickup_datetime', 'pickup_datetime') \\\n",
    "    .withColumnRenamed('lpep_dropoff_datetime', 'dropoff_datetime')\n",
    "\n",
    "\n",
    "df_yellow=df_yellow \\\n",
    "    .withColumnRenamed('tpep_pickup_datetime', 'pickup_datetime') \\\n",
    "    .withColumnRenamed('tpep_dropoff_datetime', 'dropoff_datetime')"
   ]
  },
  {
   "cell_type": "code",
   "execution_count": null,
   "id": "99dc71f2-26a5-4a6e-86fd-8d2fe82a5f55",
   "metadata": {},
   "outputs": [],
   "source": [
    "set(df_yellow.columns) & set(df_green.columns)"
   ]
  },
  {
   "cell_type": "code",
   "execution_count": null,
   "id": "10868839-18b1-4289-8f4a-1c4d605f1900",
   "metadata": {},
   "outputs": [],
   "source": [
    "columns = []\n",
    "yellow_columns = set(df_yellow.columns)\n",
    "\n",
    "for col in df_green.columns:\n",
    "    if col in yellow_columns:\n",
    "        columns.append(col)\n",
    "        "
   ]
  },
  {
   "cell_type": "code",
   "execution_count": null,
   "id": "20259f9e-d59a-4736-bf1a-7661a7cb3351",
   "metadata": {},
   "outputs": [],
   "source": [
    "columns"
   ]
  },
  {
   "cell_type": "code",
   "execution_count": null,
   "id": "4e1ffef3-6dfc-4bf4-891d-2bead6e62af8",
   "metadata": {},
   "outputs": [],
   "source": [
    "df_green.select(columns).show()"
   ]
  },
  {
   "cell_type": "code",
   "execution_count": null,
   "id": "f4ac77ad-86f1-49bb-91d6-c8e8595b0f4e",
   "metadata": {},
   "outputs": [],
   "source": [
    "from pyspark.sql import functions as F"
   ]
  },
  {
   "cell_type": "code",
   "execution_count": null,
   "id": "cd01fa0f-8c12-4207-86af-1ca68a8459ee",
   "metadata": {},
   "outputs": [],
   "source": [
    "df_green_sel =df_green.select(columns) \\\n",
    "    .withColumn('service_type', F.lit(\"green\"))"
   ]
  },
  {
   "cell_type": "code",
   "execution_count": null,
   "id": "cdd90da6-36e0-4cca-a125-6a32a94a078e",
   "metadata": {},
   "outputs": [],
   "source": [
    "df_yellow_sel =df_yellow.select(columns) \\\n",
    "    .withColumn('service_type', F.lit(\"yellow\"))"
   ]
  },
  {
   "cell_type": "code",
   "execution_count": null,
   "id": "64bbb8e2-e706-468c-927e-2839c8ea302d",
   "metadata": {},
   "outputs": [],
   "source": [
    "df_trips_data = df_green_sel.unionAll(df_yellow_sel)"
   ]
  },
  {
   "cell_type": "code",
   "execution_count": null,
   "id": "1f2085aa-33a5-42fc-9296-938e91363d64",
   "metadata": {},
   "outputs": [],
   "source": [
    "df_trips_data.groupBy('service_type').count().show()"
   ]
  },
  {
   "cell_type": "code",
   "execution_count": null,
   "id": "4061c380-cb3b-4c75-b57f-a45ee80aa221",
   "metadata": {},
   "outputs": [],
   "source": [
    "df_trips_data.registerTempTable('trips_data')"
   ]
  },
  {
   "cell_type": "code",
   "execution_count": null,
   "id": "10e6203c-adaa-43a2-ac2a-9102d23da6a1",
   "metadata": {},
   "outputs": [],
   "source": [
    "df_result = spark.sql(\"\"\"\n",
    "SELECT\n",
    "    -- Revenue grouping \n",
    "    PULocationID AS revenue_zone,\n",
    "    date_trunc(\"month\", \"pickup_datetime\") AS revenue_month, \n",
    "\n",
    "    service_type, \n",
    "\n",
    "    -- Revenue calculation \n",
    "    SUM(fare_amount) AS revenue_monthly_fare,\n",
    "    SUM(extra) AS revenue_monthly_extra,\n",
    "    SUM(mta_tax) AS revenue_monthly_mta_tax,\n",
    "    SUM(tip_amount) AS revenue_monthly_tip_amount,\n",
    "    SUM(tolls_amount) AS revenue_monthly_tolls_amount,\n",
    "    SUM(improvement_surcharge) AS revenue_monthly_improvement_surcharge,\n",
    "    SUM(total_amount) AS revenue_monthly_total_amount,\n",
    "\n",
    "    -- Additional calculations\n",
    "    AVG(passenger_count) AS avg_monthly_passenger_count,\n",
    "    AVG(trip_distance) AS avg_monthly_trip_distance\n",
    "\n",
    "    FROM\n",
    "    trips_data\n",
    "    GROUP BY 1,2,3\n",
    "\"\"\")"
   ]
  },
  {
   "cell_type": "code",
   "execution_count": null,
   "id": "dfa532fa-48dd-40d0-854a-129d418fe69f",
   "metadata": {},
   "outputs": [],
   "source": [
    "df_result.write.parquet('data/report/revenue/')"
   ]
  },
  {
   "cell_type": "code",
   "execution_count": null,
   "id": "f46ac5b8-a892-411a-9d2d-e81462ce9a9a",
   "metadata": {},
   "outputs": [],
   "source": [
    "print(spark.sparkContext.uiWebUrl)\n"
   ]
  },
  {
   "cell_type": "code",
   "execution_count": null,
   "id": "f0dfe3f2-e71c-4934-93fd-8f549b07b2c2",
   "metadata": {},
   "outputs": [],
   "source": []
  }
 ],
 "metadata": {
  "kernelspec": {
   "display_name": "Python 3 (ipykernel)",
   "language": "python",
   "name": "python3"
  },
  "language_info": {
   "codemirror_mode": {
    "name": "ipython",
    "version": 3
   },
   "file_extension": ".py",
   "mimetype": "text/x-python",
   "name": "python",
   "nbconvert_exporter": "python",
   "pygments_lexer": "ipython3",
   "version": "3.12.2"
  }
 },
 "nbformat": 4,
 "nbformat_minor": 5
}
