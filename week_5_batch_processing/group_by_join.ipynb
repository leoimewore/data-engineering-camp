{
 "cells": [
  {
   "cell_type": "code",
   "execution_count": 1,
   "id": "075e3e1b-3105-4747-bfc4-5336b6f62aa3",
   "metadata": {},
   "outputs": [],
   "source": [
    "import pyspark\n",
    "from pyspark.sql import SparkSession \n",
    "from pyspark.sql.functions import col\n",
    "from pyspark.sql import types"
   ]
  },
  {
   "cell_type": "code",
   "execution_count": 2,
   "id": "3f4e5a64-abda-4672-9b22-046b97325f27",
   "metadata": {},
   "outputs": [
    {
     "name": "stderr",
     "output_type": "stream",
     "text": [
      "Setting default log level to \"WARN\".\n",
      "To adjust logging level use sc.setLogLevel(newLevel). For SparkR, use setLogLevel(newLevel).\n",
      "25/03/01 15:00:22 WARN NativeCodeLoader: Unable to load native-hadoop library for your platform... using builtin-java classes where applicable\n",
      "25/03/01 15:00:42 WARN GarbageCollectionMetrics: To enable non-built-in garbage collector(s) List(G1 Concurrent GC), users should configure it(them) to spark.eventLog.gcMetrics.youngGenerationGarbageCollectors or spark.eventLog.gcMetrics.oldGenerationGarbageCollectors\n"
     ]
    }
   ],
   "source": [
    "spark = SparkSession.builder \\\n",
    "    .master(\"spark://de-zoomcamp.us-central1-c.c.shareprompt-412612.internal:7077\") \\\n",
    "    .appName('test') \\\n",
    "    .getOrCreate()"
   ]
  },
  {
   "cell_type": "code",
   "execution_count": 3,
   "id": "3475982b-5206-4fc9-939a-c6b9fbdcbefb",
   "metadata": {},
   "outputs": [
    {
     "data": {
      "text/html": [
       "\n",
       "            <div>\n",
       "                <p><b>SparkSession - in-memory</b></p>\n",
       "                \n",
       "        <div>\n",
       "            <p><b>SparkContext</b></p>\n",
       "\n",
       "            <p><a href=\"http://de-zoomcamp.us-central1-c.c.shareprompt-412612.internal:4040\">Spark UI</a></p>\n",
       "\n",
       "            <dl>\n",
       "              <dt>Version</dt>\n",
       "                <dd><code>v3.5.4</code></dd>\n",
       "              <dt>Master</dt>\n",
       "                <dd><code>spark://de-zoomcamp.us-central1-c.c.shareprompt-412612.internal:7077</code></dd>\n",
       "              <dt>AppName</dt>\n",
       "                <dd><code>test</code></dd>\n",
       "            </dl>\n",
       "        </div>\n",
       "        \n",
       "            </div>\n",
       "        "
      ],
      "text/plain": [
       "<pyspark.sql.session.SparkSession at 0x7f17bc38a900>"
      ]
     },
     "execution_count": 3,
     "metadata": {},
     "output_type": "execute_result"
    }
   ],
   "source": [
    "spark"
   ]
  },
  {
   "cell_type": "code",
   "execution_count": 6,
   "id": "d9062759-471c-4117-8ea2-7c6e909bfbc2",
   "metadata": {},
   "outputs": [
    {
     "name": "stderr",
     "output_type": "stream",
     "text": [
      "                                                                                \r"
     ]
    }
   ],
   "source": [
    "df_green = spark.read.parquet(\"data/raw/green/*/*\")"
   ]
  },
  {
   "cell_type": "code",
   "execution_count": 7,
   "id": "8ae44a32-efe3-420c-acb4-d7e08b32645a",
   "metadata": {},
   "outputs": [],
   "source": [
    "df_green = df_green.withColumn(\"lpep_pickup_datetime\", col(\"lpep_pickup_datetime\").cast(\"timestamp\"))"
   ]
  },
  {
   "cell_type": "code",
   "execution_count": 8,
   "id": "42d88878-8e97-4290-8d15-0faf60edff87",
   "metadata": {},
   "outputs": [
    {
     "name": "stdout",
     "output_type": "stream",
     "text": [
      "root\n",
      " |-- VendorID: long (nullable = true)\n",
      " |-- lpep_pickup_datetime: timestamp (nullable = true)\n",
      " |-- lpep_dropoff_datetime: timestamp_ntz (nullable = true)\n",
      " |-- store_and_fwd_flag: string (nullable = true)\n",
      " |-- RatecodeID: double (nullable = true)\n",
      " |-- PULocationID: long (nullable = true)\n",
      " |-- DOLocationID: long (nullable = true)\n",
      " |-- passenger_count: double (nullable = true)\n",
      " |-- trip_distance: double (nullable = true)\n",
      " |-- fare_amount: double (nullable = true)\n",
      " |-- extra: double (nullable = true)\n",
      " |-- mta_tax: double (nullable = true)\n",
      " |-- tip_amount: double (nullable = true)\n",
      " |-- tolls_amount: double (nullable = true)\n",
      " |-- ehail_fee: integer (nullable = true)\n",
      " |-- improvement_surcharge: double (nullable = true)\n",
      " |-- total_amount: double (nullable = true)\n",
      " |-- payment_type: double (nullable = true)\n",
      " |-- trip_type: double (nullable = true)\n",
      " |-- congestion_surcharge: double (nullable = true)\n",
      "\n"
     ]
    }
   ],
   "source": [
    "df_green.printSchema()"
   ]
  },
  {
   "cell_type": "code",
   "execution_count": null,
   "id": "bf387397-840c-4d98-ac06-3422e1434611",
   "metadata": {},
   "outputs": [],
   "source": []
  },
  {
   "cell_type": "code",
   "execution_count": 9,
   "id": "52102010-9bee-4369-97a5-42f825e9e49e",
   "metadata": {},
   "outputs": [
    {
     "name": "stderr",
     "output_type": "stream",
     "text": [
      "/opt/spark/python/pyspark/sql/dataframe.py:329: FutureWarning: Deprecated in 2.0, use createOrReplaceTempView instead.\n",
      "  warnings.warn(\"Deprecated in 2.0, use createOrReplaceTempView instead.\", FutureWarning)\n"
     ]
    }
   ],
   "source": [
    "df_green.registerTempTable('trips_data')"
   ]
  },
  {
   "cell_type": "code",
   "execution_count": 10,
   "id": "ab61b227-f65c-4cb1-bfba-35aaabaa8ff2",
   "metadata": {},
   "outputs": [],
   "source": [
    "df_green_result = spark.sql(\"\"\"\n",
    "SELECT\n",
    "    -- Revenue grouping \n",
    "    PULocationID AS zone,\n",
    "    date_trunc(\"hour\", lpep_pickup_datetime) AS hour,\n",
    "\n",
    "    -- Revenue calculation \n",
    "    SUM(total_amount) AS amount,\n",
    "    COUNT(1) AS number_records\n",
    "\n",
    "FROM\n",
    "    trips_data\n",
    "GROUP BY 1,2\n",
    "ORDER BY 1,2\n",
    "\"\"\")"
   ]
  },
  {
   "cell_type": "code",
   "execution_count": 11,
   "id": "562995e6-9d8a-4335-a4d8-88ebc8e322dd",
   "metadata": {},
   "outputs": [
    {
     "name": "stderr",
     "output_type": "stream",
     "text": [
      "                                                                                \r"
     ]
    },
    {
     "name": "stdout",
     "output_type": "stream",
     "text": [
      "+----+-------------------+------+--------------+\n",
      "|zone|               hour|amount|number_records|\n",
      "+----+-------------------+------+--------------+\n",
      "|   1|2020-01-01 03:00:00| 155.3|             1|\n",
      "|   1|2020-01-03 05:00:00|117.39|             1|\n",
      "|   1|2020-01-26 10:00:00| 85.56|             1|\n",
      "|   1|2020-01-29 18:00:00|108.36|             1|\n",
      "|   1|2020-02-01 06:00:00|115.56|             1|\n",
      "|   1|2020-02-06 07:00:00|  98.3|             1|\n",
      "|   1|2020-02-16 07:00:00|  95.3|             1|\n",
      "|   1|2020-02-17 13:00:00|  82.3|             1|\n",
      "|   1|2020-02-26 17:00:00| 49.38|             1|\n",
      "|   1|2020-03-02 15:00:00|  88.3|             1|\n",
      "|   1|2020-03-11 12:00:00|103.56|             1|\n",
      "|   1|2020-03-12 11:00:00|  61.1|             1|\n",
      "|   1|2020-03-14 11:00:00|  16.0|             1|\n",
      "|   1|2020-03-21 17:00:00| 100.3|             1|\n",
      "|   1|2020-04-10 13:00:00| 150.3|             1|\n",
      "|   1|2020-04-23 08:00:00| 37.85|             1|\n",
      "|   1|2020-07-12 07:00:00| 79.05|             1|\n",
      "|   1|2020-07-15 06:00:00|  65.3|             1|\n",
      "|   1|2020-07-18 18:00:00| 92.55|             1|\n",
      "|   1|2020-08-16 15:00:00|  74.8|             1|\n",
      "+----+-------------------+------+--------------+\n",
      "only showing top 20 rows\n",
      "\n"
     ]
    }
   ],
   "source": [
    "df_green_result.show()"
   ]
  },
  {
   "cell_type": "code",
   "execution_count": 12,
   "id": "830379cd-b0f9-42c6-9349-aac0fd936ec0",
   "metadata": {},
   "outputs": [
    {
     "name": "stderr",
     "output_type": "stream",
     "text": [
      "                                                                                \r"
     ]
    }
   ],
   "source": [
    "df_green_result \\\n",
    "    .repartition(20) \\\n",
    "    .write.parquet('data/report/revenue/green' , mode='overwrite')"
   ]
  },
  {
   "cell_type": "code",
   "execution_count": 13,
   "id": "1bd42ed6-51f6-45ed-bec7-aeaddd4247df",
   "metadata": {},
   "outputs": [
    {
     "name": "stdout",
     "output_type": "stream",
     "text": [
      "http://de-zoomcamp.us-central1-c.c.shareprompt-412612.internal:4041\n"
     ]
    }
   ],
   "source": [
    "print(spark.sparkContext.uiWebUrl)\n"
   ]
  },
  {
   "cell_type": "code",
   "execution_count": 14,
   "id": "d5371a99-dc3f-4de5-bb97-eb28f8e86cf8",
   "metadata": {},
   "outputs": [],
   "source": [
    "df_yellow = spark.read.parquet(\"data/raw/yellow/*/*\")"
   ]
  },
  {
   "cell_type": "code",
   "execution_count": 15,
   "id": "eaae5aa9-5318-4db7-9445-efb475c93f9d",
   "metadata": {},
   "outputs": [],
   "source": [
    "df_yellow.registerTempTable('yellow_trips_data')"
   ]
  },
  {
   "cell_type": "code",
   "execution_count": 16,
   "id": "46eed6f9-a9bc-47c9-a208-e3c431900052",
   "metadata": {},
   "outputs": [],
   "source": [
    "df_yellow_result = spark.sql(\"\"\"\n",
    "SELECT\n",
    "    -- Revenue grouping \n",
    "    PULocationID AS zone,\n",
    "    date_trunc(\"hour\", tpep_pickup_datetime) AS hour,\n",
    "\n",
    "    -- Revenue calculation \n",
    "    SUM(total_amount) AS amount,\n",
    "    COUNT(1) AS number_records\n",
    "\n",
    "FROM\n",
    "    yellow_trips_data\n",
    "GROUP BY 1,2\n",
    "\"\"\")"
   ]
  },
  {
   "cell_type": "code",
   "execution_count": 17,
   "id": "d43ca71f-f9c1-4be1-b044-f8e705682abb",
   "metadata": {},
   "outputs": [
    {
     "name": "stderr",
     "output_type": "stream",
     "text": [
      "                                                                                \r"
     ]
    }
   ],
   "source": [
    "df_yellow_result \\\n",
    "    .repartition(20) \\\n",
    "    .write.parquet('data/report/revenue/yellow',mode='overwrite' )"
   ]
  },
  {
   "cell_type": "code",
   "execution_count": 18,
   "id": "8d648cf1-c1e0-4e40-9d76-c2badc042bb2",
   "metadata": {},
   "outputs": [],
   "source": [
    "df_green_result=spark.read.parquet('data/report/revenue/green')"
   ]
  },
  {
   "cell_type": "code",
   "execution_count": 19,
   "id": "576c94be-c7e1-4960-83f1-edd3a0031f1a",
   "metadata": {},
   "outputs": [],
   "source": [
    "df_yellow_result=spark.read.parquet('data/report/revenue/yellow')"
   ]
  },
  {
   "cell_type": "code",
   "execution_count": 20,
   "id": "6297a7fb-bc6d-48a9-b297-1796857e3d7e",
   "metadata": {},
   "outputs": [],
   "source": [
    "df_green_revenue_tmp=df_green_result \\\n",
    "    .withColumnRenamed('amount','green_amount') \\\n",
    "    .withColumnRenamed('number_records','green_number_records')"
   ]
  },
  {
   "cell_type": "code",
   "execution_count": 21,
   "id": "f2b02440-8325-469b-9e72-3c1e1490d613",
   "metadata": {},
   "outputs": [],
   "source": [
    "df_yellow_revenue_tmp=df_yellow_result \\\n",
    "    .withColumnRenamed('amount','yellow_amount') \\\n",
    "    .withColumnRenamed('number_records','yellow_number_records')"
   ]
  },
  {
   "cell_type": "code",
   "execution_count": 22,
   "id": "8f173a56-fab6-4d38-a4fb-8365e0d3427f",
   "metadata": {},
   "outputs": [],
   "source": [
    "df_join = df_green_revenue_tmp.join(df_yellow_revenue_tmp, on=[\"hour\", \"zone\"] , how=\"outer\")"
   ]
  },
  {
   "cell_type": "code",
   "execution_count": 23,
   "id": "950e5bd7-7cd1-4f4b-b0fe-a3fe0fe95bf4",
   "metadata": {},
   "outputs": [
    {
     "name": "stderr",
     "output_type": "stream",
     "text": [
      "[Stage 29:>                                                         (0 + 1) / 1]\r"
     ]
    },
    {
     "name": "stdout",
     "output_type": "stream",
     "text": [
      "+-------------------+----+------------+--------------------+------------------+---------------------+\n",
      "|               hour|zone|green_amount|green_number_records|     yellow_amount|yellow_number_records|\n",
      "+-------------------+----+------------+--------------------+------------------+---------------------+\n",
      "|2003-01-01 00:00:00| 193|        NULL|                NULL|               0.0|                    1|\n",
      "|2008-12-31 19:00:00|  74|       18.05|                   1|              NULL|                 NULL|\n",
      "|2008-12-31 23:00:00|  43|        NULL|                NULL|             79.66|                    4|\n",
      "|2008-12-31 23:00:00| 116|        NULL|                NULL|              29.3|                    1|\n",
      "|2008-12-31 23:00:00| 141|        NULL|                NULL|              23.6|                    2|\n",
      "|2008-12-31 23:00:00| 142|        NULL|                NULL|37.760000000000005|                    3|\n",
      "|2008-12-31 23:00:00| 163|        NULL|                NULL|               9.3|                    1|\n",
      "|2008-12-31 23:00:00| 229|        NULL|                NULL|31.060000000000002|                    3|\n",
      "|2008-12-31 23:00:00| 234|        NULL|                NULL|              37.9|                    3|\n",
      "|2008-12-31 23:00:00| 236|        NULL|                NULL|             31.16|                    2|\n",
      "|2008-12-31 23:00:00| 239|        NULL|                NULL|              11.3|                    3|\n",
      "|2008-12-31 23:00:00| 255|        NULL|                NULL|             14.76|                    1|\n",
      "|2009-01-01 00:00:00|  24|        NULL|                NULL|              11.0|                    1|\n",
      "|2009-01-01 00:00:00| 116|         7.3|                   1|              NULL|                 NULL|\n",
      "|2009-01-01 00:00:00| 125|        NULL|                NULL|              15.3|                    1|\n",
      "|2009-01-01 00:00:00| 141|        NULL|                NULL| 56.50000000000001|                    5|\n",
      "|2009-01-01 00:00:00| 142|        NULL|                NULL|             69.36|                    6|\n",
      "|2009-01-01 00:00:00| 144|        NULL|                NULL|              25.1|                    2|\n",
      "|2009-01-01 00:00:00| 148|        NULL|                NULL|              11.3|                    1|\n",
      "|2009-01-01 00:00:00| 152|        NULL|                NULL|             39.96|                    1|\n",
      "+-------------------+----+------------+--------------------+------------------+---------------------+\n",
      "only showing top 20 rows\n",
      "\n"
     ]
    },
    {
     "name": "stderr",
     "output_type": "stream",
     "text": [
      "                                                                                \r"
     ]
    }
   ],
   "source": [
    "df_join.show()"
   ]
  },
  {
   "cell_type": "code",
   "execution_count": 24,
   "id": "773797fa-a598-468a-93aa-4282a6d0dde8",
   "metadata": {},
   "outputs": [
    {
     "name": "stderr",
     "output_type": "stream",
     "text": [
      "                                                                                \r"
     ]
    }
   ],
   "source": [
    "df_join.write.parquet('data/report/revenue/total', mode='overwrite')"
   ]
  },
  {
   "cell_type": "code",
   "execution_count": 25,
   "id": "2d722aa0-32f0-49f2-9444-e6904a5de381",
   "metadata": {},
   "outputs": [
    {
     "name": "stdout",
     "output_type": "stream",
     "text": [
      "http://de-zoomcamp.us-central1-c.c.shareprompt-412612.internal:4041\n"
     ]
    }
   ],
   "source": [
    "print(spark.sparkContext.uiWebUrl)\n"
   ]
  },
  {
   "cell_type": "code",
   "execution_count": null,
   "id": "9533b898-87ed-47fa-b7e2-571e7775f1f2",
   "metadata": {},
   "outputs": [],
   "source": []
  }
 ],
 "metadata": {
  "kernelspec": {
   "display_name": "Python 3 (ipykernel)",
   "language": "python",
   "name": "python3"
  },
  "language_info": {
   "codemirror_mode": {
    "name": "ipython",
    "version": 3
   },
   "file_extension": ".py",
   "mimetype": "text/x-python",
   "name": "python",
   "nbconvert_exporter": "python",
   "pygments_lexer": "ipython3",
   "version": "3.12.2"
  }
 },
 "nbformat": 4,
 "nbformat_minor": 5
}
